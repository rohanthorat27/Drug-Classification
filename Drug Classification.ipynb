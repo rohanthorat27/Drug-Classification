{
  "nbformat": 4,
  "nbformat_minor": 0,
  "metadata": {
    "colab": {
      "provenance": []
    },
    "kernelspec": {
      "name": "python3",
      "display_name": "Python 3"
    },
    "language_info": {
      "name": "python"
    }
  },
  "cells": [
    {
      "cell_type": "markdown",
      "source": [
        "Mounting Drive"
      ],
      "metadata": {
        "id": "KpKwLXRZzGb-"
      }
    },
    {
      "cell_type": "code",
      "execution_count": null,
      "metadata": {
        "colab": {
          "base_uri": "https://localhost:8080/"
        },
        "id": "IhsSQPI6WIdw",
        "outputId": "ec8789a3-5643-4c08-e75b-3ce5c5dbca0d"
      },
      "outputs": [
        {
          "output_type": "stream",
          "name": "stdout",
          "text": [
            "Mounted at /content/drive\n"
          ]
        }
      ],
      "source": [
        "from google.colab import drive\n",
        "drive.mount('/content/drive')"
      ]
    },
    {
      "cell_type": "markdown",
      "source": [
        "**Problem Statement:**\n",
        "\n",
        "**Using the input features to classify the type of drug.**\n"
      ],
      "metadata": {
        "id": "oW_Eq3h4dP6l"
      }
    },
    {
      "cell_type": "markdown",
      "source": [
        "Importing Required Libraries"
      ],
      "metadata": {
        "id": "-v-pNFugRQV4"
      }
    },
    {
      "cell_type": "code",
      "source": [
        "import pandas as pd\n",
        "import numpy as np\n",
        "import os\n",
        "import matplotlib.pyplot as plt\n",
        "import scipy.stats as stats\n",
        "import seaborn as sns\n",
        "\n",
        "from sklearn.preprocessing import OneHotEncoder, OrdinalEncoder, LabelEncoder\n",
        "from sklearn.model_selection import train_test_split\n",
        "from sklearn.metrics import accuracy_score\n",
        "from sklearn import metrics\n",
        "from sklearn.metrics import confusion_matrix\n",
        "from sklearn.metrics import roc_curve, roc_auc_score\n",
        "from sklearn.metrics import f1_score\n",
        "\n",
        "from sklearn.linear_model import LogisticRegression\n",
        "from sklearn.tree import DecisionTreeClassifier\n",
        "\n",
        "from keras.layers import Dense, Dropout\n",
        "from keras.models import Sequential\n",
        "from keras import models\n",
        "from keras import layers\n",
        "from keras.callbacks import EarlyStopping, ModelCheckpoint, ReduceLROnPlateau\n",
        "from keras.models import load_model\n",
        "\n",
        "import keras"
      ],
      "metadata": {
        "id": "RZPmAHn5WQ_X"
      },
      "execution_count": null,
      "outputs": []
    },
    {
      "cell_type": "markdown",
      "source": [
        "Loading dataset"
      ],
      "metadata": {
        "id": "7ND-XlLqRgp3"
      }
    },
    {
      "cell_type": "code",
      "source": [
        "df=pd.read_csv('/content/drive/MyDrive/drug200.csv')\n",
        "\n",
        "df.head()"
      ],
      "metadata": {
        "id": "tIi6LFYzWqTp",
        "colab": {
          "base_uri": "https://localhost:8080/",
          "height": 206
        },
        "outputId": "f2c247b2-eaa4-4619-adee-723be6f3ccff"
      },
      "execution_count": null,
      "outputs": [
        {
          "output_type": "execute_result",
          "data": {
            "text/plain": [
              "   Age Sex      BP Cholesterol  Na_to_K   Drug\n",
              "0   23   F    HIGH        HIGH   25.355  DrugY\n",
              "1   47   M     LOW        HIGH   13.093  drugC\n",
              "2   47   M     LOW        HIGH   10.114  drugC\n",
              "3   28   F  NORMAL        HIGH    7.798  drugX\n",
              "4   61   F     LOW        HIGH   18.043  DrugY"
            ],
            "text/html": [
              "\n",
              "  <div id=\"df-91d3b327-39ae-46e3-a29c-da1d0d5611a0\">\n",
              "    <div class=\"colab-df-container\">\n",
              "      <div>\n",
              "<style scoped>\n",
              "    .dataframe tbody tr th:only-of-type {\n",
              "        vertical-align: middle;\n",
              "    }\n",
              "\n",
              "    .dataframe tbody tr th {\n",
              "        vertical-align: top;\n",
              "    }\n",
              "\n",
              "    .dataframe thead th {\n",
              "        text-align: right;\n",
              "    }\n",
              "</style>\n",
              "<table border=\"1\" class=\"dataframe\">\n",
              "  <thead>\n",
              "    <tr style=\"text-align: right;\">\n",
              "      <th></th>\n",
              "      <th>Age</th>\n",
              "      <th>Sex</th>\n",
              "      <th>BP</th>\n",
              "      <th>Cholesterol</th>\n",
              "      <th>Na_to_K</th>\n",
              "      <th>Drug</th>\n",
              "    </tr>\n",
              "  </thead>\n",
              "  <tbody>\n",
              "    <tr>\n",
              "      <th>0</th>\n",
              "      <td>23</td>\n",
              "      <td>F</td>\n",
              "      <td>HIGH</td>\n",
              "      <td>HIGH</td>\n",
              "      <td>25.355</td>\n",
              "      <td>DrugY</td>\n",
              "    </tr>\n",
              "    <tr>\n",
              "      <th>1</th>\n",
              "      <td>47</td>\n",
              "      <td>M</td>\n",
              "      <td>LOW</td>\n",
              "      <td>HIGH</td>\n",
              "      <td>13.093</td>\n",
              "      <td>drugC</td>\n",
              "    </tr>\n",
              "    <tr>\n",
              "      <th>2</th>\n",
              "      <td>47</td>\n",
              "      <td>M</td>\n",
              "      <td>LOW</td>\n",
              "      <td>HIGH</td>\n",
              "      <td>10.114</td>\n",
              "      <td>drugC</td>\n",
              "    </tr>\n",
              "    <tr>\n",
              "      <th>3</th>\n",
              "      <td>28</td>\n",
              "      <td>F</td>\n",
              "      <td>NORMAL</td>\n",
              "      <td>HIGH</td>\n",
              "      <td>7.798</td>\n",
              "      <td>drugX</td>\n",
              "    </tr>\n",
              "    <tr>\n",
              "      <th>4</th>\n",
              "      <td>61</td>\n",
              "      <td>F</td>\n",
              "      <td>LOW</td>\n",
              "      <td>HIGH</td>\n",
              "      <td>18.043</td>\n",
              "      <td>DrugY</td>\n",
              "    </tr>\n",
              "  </tbody>\n",
              "</table>\n",
              "</div>\n",
              "      <button class=\"colab-df-convert\" onclick=\"convertToInteractive('df-91d3b327-39ae-46e3-a29c-da1d0d5611a0')\"\n",
              "              title=\"Convert this dataframe to an interactive table.\"\n",
              "              style=\"display:none;\">\n",
              "        \n",
              "  <svg xmlns=\"http://www.w3.org/2000/svg\" height=\"24px\"viewBox=\"0 0 24 24\"\n",
              "       width=\"24px\">\n",
              "    <path d=\"M0 0h24v24H0V0z\" fill=\"none\"/>\n",
              "    <path d=\"M18.56 5.44l.94 2.06.94-2.06 2.06-.94-2.06-.94-.94-2.06-.94 2.06-2.06.94zm-11 1L8.5 8.5l.94-2.06 2.06-.94-2.06-.94L8.5 2.5l-.94 2.06-2.06.94zm10 10l.94 2.06.94-2.06 2.06-.94-2.06-.94-.94-2.06-.94 2.06-2.06.94z\"/><path d=\"M17.41 7.96l-1.37-1.37c-.4-.4-.92-.59-1.43-.59-.52 0-1.04.2-1.43.59L10.3 9.45l-7.72 7.72c-.78.78-.78 2.05 0 2.83L4 21.41c.39.39.9.59 1.41.59.51 0 1.02-.2 1.41-.59l7.78-7.78 2.81-2.81c.8-.78.8-2.07 0-2.86zM5.41 20L4 18.59l7.72-7.72 1.47 1.35L5.41 20z\"/>\n",
              "  </svg>\n",
              "      </button>\n",
              "      \n",
              "  <style>\n",
              "    .colab-df-container {\n",
              "      display:flex;\n",
              "      flex-wrap:wrap;\n",
              "      gap: 12px;\n",
              "    }\n",
              "\n",
              "    .colab-df-convert {\n",
              "      background-color: #E8F0FE;\n",
              "      border: none;\n",
              "      border-radius: 50%;\n",
              "      cursor: pointer;\n",
              "      display: none;\n",
              "      fill: #1967D2;\n",
              "      height: 32px;\n",
              "      padding: 0 0 0 0;\n",
              "      width: 32px;\n",
              "    }\n",
              "\n",
              "    .colab-df-convert:hover {\n",
              "      background-color: #E2EBFA;\n",
              "      box-shadow: 0px 1px 2px rgba(60, 64, 67, 0.3), 0px 1px 3px 1px rgba(60, 64, 67, 0.15);\n",
              "      fill: #174EA6;\n",
              "    }\n",
              "\n",
              "    [theme=dark] .colab-df-convert {\n",
              "      background-color: #3B4455;\n",
              "      fill: #D2E3FC;\n",
              "    }\n",
              "\n",
              "    [theme=dark] .colab-df-convert:hover {\n",
              "      background-color: #434B5C;\n",
              "      box-shadow: 0px 1px 3px 1px rgba(0, 0, 0, 0.15);\n",
              "      filter: drop-shadow(0px 1px 2px rgba(0, 0, 0, 0.3));\n",
              "      fill: #FFFFFF;\n",
              "    }\n",
              "  </style>\n",
              "\n",
              "      <script>\n",
              "        const buttonEl =\n",
              "          document.querySelector('#df-91d3b327-39ae-46e3-a29c-da1d0d5611a0 button.colab-df-convert');\n",
              "        buttonEl.style.display =\n",
              "          google.colab.kernel.accessAllowed ? 'block' : 'none';\n",
              "\n",
              "        async function convertToInteractive(key) {\n",
              "          const element = document.querySelector('#df-91d3b327-39ae-46e3-a29c-da1d0d5611a0');\n",
              "          const dataTable =\n",
              "            await google.colab.kernel.invokeFunction('convertToInteractive',\n",
              "                                                     [key], {});\n",
              "          if (!dataTable) return;\n",
              "\n",
              "          const docLinkHtml = 'Like what you see? Visit the ' +\n",
              "            '<a target=\"_blank\" href=https://colab.research.google.com/notebooks/data_table.ipynb>data table notebook</a>'\n",
              "            + ' to learn more about interactive tables.';\n",
              "          element.innerHTML = '';\n",
              "          dataTable['output_type'] = 'display_data';\n",
              "          await google.colab.output.renderOutput(dataTable, element);\n",
              "          const docLink = document.createElement('div');\n",
              "          docLink.innerHTML = docLinkHtml;\n",
              "          element.appendChild(docLink);\n",
              "        }\n",
              "      </script>\n",
              "    </div>\n",
              "  </div>\n",
              "  "
            ]
          },
          "metadata": {},
          "execution_count": 3
        }
      ]
    },
    {
      "cell_type": "code",
      "source": [
        "df.dtypes"
      ],
      "metadata": {
        "colab": {
          "base_uri": "https://localhost:8080/"
        },
        "id": "VPJI6mPs4AC4",
        "outputId": "038b7192-f300-4a81-9769-f5318708b128"
      },
      "execution_count": null,
      "outputs": [
        {
          "output_type": "execute_result",
          "data": {
            "text/plain": [
              "Age              int64\n",
              "Sex             object\n",
              "BP              object\n",
              "Cholesterol     object\n",
              "Na_to_K        float64\n",
              "Drug            object\n",
              "dtype: object"
            ]
          },
          "metadata": {},
          "execution_count": 4
        }
      ]
    },
    {
      "cell_type": "code",
      "source": [
        "print(f'Minimum age: ' + str(df['Age'].min()))\n",
        "print(f'Maximum age: ' + str(df['Age'].max()))"
      ],
      "metadata": {
        "colab": {
          "base_uri": "https://localhost:8080/"
        },
        "id": "smDrYFRv4zXY",
        "outputId": "3bb6fe71-69dc-429a-c58a-56e4edc3f015"
      },
      "execution_count": null,
      "outputs": [
        {
          "output_type": "stream",
          "name": "stdout",
          "text": [
            "Minimum age: 15\n",
            "Maximum age: 74\n"
          ]
        }
      ]
    },
    {
      "cell_type": "markdown",
      "source": [
        "Normally distributed Age"
      ],
      "metadata": {
        "id": "0009ubi9c1MK"
      }
    },
    {
      "cell_type": "code",
      "source": [
        "# Calculating Mean and Standard deviation of Age\n",
        "df_mean = np.mean(df[\"Age\"])\n",
        "df_std = np.std(df[\"Age\"])\n",
        " \n",
        "# Calculating probability density function (PDF)\n",
        "pdf = stats.norm.pdf(df[\"Age\"].sort_values(), df_mean, df_std)\n",
        "\n",
        "# Drawing a graph\n",
        "plt.plot(df[\"Age\"].sort_values(), pdf)\n",
        "plt.xlim([0,90])  \n",
        "plt.xlabel(\"Age\", size=12)    \n",
        "plt.ylabel(\"Frequency\", size=12)                \n",
        "plt.grid(True, alpha=0.3, linestyle=\"--\")\n",
        "plt.show()"
      ],
      "metadata": {
        "colab": {
          "base_uri": "https://localhost:8080/",
          "height": 285
        },
        "id": "knh86vhK4Aee",
        "outputId": "53033a0b-127d-4ce5-8f8d-105c695bc81a"
      },
      "execution_count": null,
      "outputs": [
        {
          "output_type": "display_data",
          "data": {
            "text/plain": [
              "<Figure size 432x288 with 1 Axes>"
            ],
            "image/png": "[encoded data removed]"
          },
          "metadata": {
            "needs_background": "light"
          }
        }
      ]
    },
    {
      "cell_type": "code",
      "source": [
        "def uniqueClasses(col):\n",
        "  print(f'Unique classes in {col}:')\n",
        "  for i in df[col].unique():\n",
        "    print(i)\n",
        "  print('\\n')"
      ],
      "metadata": {
        "id": "C2ZH_8NB4Aqc"
      },
      "execution_count": null,
      "outputs": []
    },
    {
      "cell_type": "markdown",
      "source": [
        "Unique Classes in categorical data"
      ],
      "metadata": {
        "id": "vYOkB4bjc6qE"
      }
    },
    {
      "cell_type": "code",
      "source": [
        "uniqueClasses('Sex')\n",
        "uniqueClasses('BP')\n",
        "uniqueClasses('Cholesterol')\n",
        "uniqueClasses('Drug')"
      ],
      "metadata": {
        "colab": {
          "base_uri": "https://localhost:8080/"
        },
        "id": "40TA_MMF4A_v",
        "outputId": "6a94136d-3ea4-4e1c-cb8f-779045aee33f"
      },
      "execution_count": null,
      "outputs": [
        {
          "output_type": "stream",
          "name": "stdout",
          "text": [
            "Unique classes in Sex:\n",
            "F\n",
            "M\n",
            "\n",
            "\n",
            "Unique classes in BP:\n",
            "HIGH\n",
            "LOW\n",
            "NORMAL\n",
            "\n",
            "\n",
            "Unique classes in Cholesterol:\n",
            "HIGH\n",
            "NORMAL\n",
            "\n",
            "\n",
            "Unique classes in Drug:\n",
            "DrugY\n",
            "drugC\n",
            "drugX\n",
            "drugA\n",
            "drugB\n",
            "\n",
            "\n"
          ]
        }
      ]
    },
    {
      "cell_type": "markdown",
      "source": [
        "Frequency of each drug"
      ],
      "metadata": {
        "id": "tTiag0X3dDOZ"
      }
    },
    {
      "cell_type": "code",
      "source": [
        "plt.rcParams[\"figure.figsize\"] = [7.50, 3.50]\n",
        "plt.rcParams[\"figure.autolayout\"] = True\n",
        "\n",
        "fig, ax = plt.subplots()\n",
        "\n",
        "df['Drug'].value_counts().plot(ax=ax, kind='bar', xlabel='Drug', ylabel='frequency')\n",
        "\n",
        "plt.show()"
      ],
      "metadata": {
        "colab": {
          "base_uri": "https://localhost:8080/",
          "height": 261
        },
        "id": "H2ufz-yvVgnz",
        "outputId": "dcbbe0b8-612f-4356-e59b-c61d8a0cf93d"
      },
      "execution_count": null,
      "outputs": [
        {
          "output_type": "display_data",
          "data": {
            "text/plain": [
              "<Figure size 540x252 with 1 Axes>"
            ],
            "image/png": "[encoded data removed]"
          },
          "metadata": {
            "needs_background": "light"
          }
        }
      ]
    },
    {
      "cell_type": "markdown",
      "source": [
        "Using OneHotEncoder to transform nominal categorical data-Sex \n",
        "\n"
      ],
      "metadata": {
        "id": "lOyN6GdzRvay"
      }
    },
    {
      "cell_type": "code",
      "source": [
        "ohe=OneHotEncoder(sparse=False)\n",
        "\n",
        "Sex_Columns=ohe.fit_transform(df[['Sex']])\n",
        "Sex_ColumnNames=ohe.get_feature_names_out(['Sex'])\n",
        "Sex_final=pd.DataFrame(Sex_Columns, columns=Sex_ColumnNames)\n",
        "\n",
        "df=pd.concat([df, Sex_final], axis=1, sort=False)\n",
        "df.head()"
      ],
      "metadata": {
        "id": "rZ6ovp70IBKu",
        "colab": {
          "base_uri": "https://localhost:8080/",
          "height": 261
        },
        "outputId": "eb3c226e-67c7-4f63-86f8-3c12d0a06842"
      },
      "execution_count": null,
      "outputs": [
        {
          "output_type": "stream",
          "name": "stderr",
          "text": [
            "/usr/local/lib/python3.9/dist-packages/sklearn/preprocessing/_encoders.py:868: FutureWarning: `sparse` was renamed to `sparse_output` in version 1.2 and will be removed in 1.4. `sparse_output` is ignored unless you leave `sparse` to its default value.\n",
            "  warnings.warn(\n"
          ]
        },
        {
          "output_type": "execute_result",
          "data": {
            "text/plain": [
              "   Age Sex      BP Cholesterol  Na_to_K   Drug  Sex_F  Sex_M\n",
              "0   23   F    HIGH        HIGH   25.355  DrugY    1.0    0.0\n",
              "1   47   M     LOW        HIGH   13.093  drugC    0.0    1.0\n",
              "2   47   M     LOW        HIGH   10.114  drugC    0.0    1.0\n",
              "3   28   F  NORMAL        HIGH    7.798  drugX    1.0    0.0\n",
              "4   61   F     LOW        HIGH   18.043  DrugY    1.0    0.0"
            ],
            "text/html": [
              "\n",
              "  <div id=\"df-e1a9a46e-25f8-4fde-8ec2-cdd053036db7\">\n",
              "    <div class=\"colab-df-container\">\n",
              "      <div>\n",
              "<style scoped>\n",
              "    .dataframe tbody tr th:only-of-type {\n",
              "        vertical-align: middle;\n",
              "    }\n",
              "\n",
              "    .dataframe tbody tr th {\n",
              "        vertical-align: top;\n",
              "    }\n",
              "\n",
              "    .dataframe thead th {\n",
              "        text-align: right;\n",
              "    }\n",
              "</style>\n",
              "<table border=\"1\" class=\"dataframe\">\n",
              "  <thead>\n",
              "    <tr style=\"text-align: right;\">\n",
              "      <th></th>\n",
              "      <th>Age</th>\n",
              "      <th>Sex</th>\n",
              "      <th>BP</th>\n",
              "      <th>Cholesterol</th>\n",
              "      <th>Na_to_K</th>\n",
              "      <th>Drug</th>\n",
              "      <th>Sex_F</th>\n",
              "      <th>Sex_M</th>\n",
              "    </tr>\n",
              "  </thead>\n",
              "  <tbody>\n",
              "    <tr>\n",
              "      <th>0</th>\n",
              "      <td>23</td>\n",
              "      <td>F</td>\n",
              "      <td>HIGH</td>\n",
              "      <td>HIGH</td>\n",
              "      <td>25.355</td>\n",
              "      <td>DrugY</td>\n",
              "      <td>1.0</td>\n",
              "      <td>0.0</td>\n",
              "    </tr>\n",
              "    <tr>\n",
              "      <th>1</th>\n",
              "      <td>47</td>\n",
              "      <td>M</td>\n",
              "      <td>LOW</td>\n",
              "      <td>HIGH</td>\n",
              "      <td>13.093</td>\n",
              "      <td>drugC</td>\n",
              "      <td>0.0</td>\n",
              "      <td>1.0</td>\n",
              "    </tr>\n",
              "    <tr>\n",
              "      <th>2</th>\n",
              "      <td>47</td>\n",
              "      <td>M</td>\n",
              "      <td>LOW</td>\n",
              "      <td>HIGH</td>\n",
              "      <td>10.114</td>\n",
              "      <td>drugC</td>\n",
              "      <td>0.0</td>\n",
              "      <td>1.0</td>\n",
              "    </tr>\n",
              "    <tr>\n",
              "      <th>3</th>\n",
              "      <td>28</td>\n",
              "      <td>F</td>\n",
              "      <td>NORMAL</td>\n",
              "      <td>HIGH</td>\n",
              "      <td>7.798</td>\n",
              "      <td>drugX</td>\n",
              "      <td>1.0</td>\n",
              "      <td>0.0</td>\n",
              "    </tr>\n",
              "    <tr>\n",
              "      <th>4</th>\n",
              "      <td>61</td>\n",
              "      <td>F</td>\n",
              "      <td>LOW</td>\n",
              "      <td>HIGH</td>\n",
              "      <td>18.043</td>\n",
              "      <td>DrugY</td>\n",
              "      <td>1.0</td>\n",
              "      <td>0.0</td>\n",
              "    </tr>\n",
              "  </tbody>\n",
              "</table>\n",
              "</div>\n",
              "      <button class=\"colab-df-convert\" onclick=\"convertToInteractive('df-e1a9a46e-25f8-4fde-8ec2-cdd053036db7')\"\n",
              "              title=\"Convert this dataframe to an interactive table.\"\n",
              "              style=\"display:none;\">\n",
              "        \n",
              "  <svg xmlns=\"http://www.w3.org/2000/svg\" height=\"24px\"viewBox=\"0 0 24 24\"\n",
              "       width=\"24px\">\n",
              "    <path d=\"M0 0h24v24H0V0z\" fill=\"none\"/>\n",
              "    <path d=\"M18.56 5.44l.94 2.06.94-2.06 2.06-.94-2.06-.94-.94-2.06-.94 2.06-2.06.94zm-11 1L8.5 8.5l.94-2.06 2.06-.94-2.06-.94L8.5 2.5l-.94 2.06-2.06.94zm10 10l.94 2.06.94-2.06 2.06-.94-2.06-.94-.94-2.06-.94 2.06-2.06.94z\"/><path d=\"M17.41 7.96l-1.37-1.37c-.4-.4-.92-.59-1.43-.59-.52 0-1.04.2-1.43.59L10.3 9.45l-7.72 7.72c-.78.78-.78 2.05 0 2.83L4 21.41c.39.39.9.59 1.41.59.51 0 1.02-.2 1.41-.59l7.78-7.78 2.81-2.81c.8-.78.8-2.07 0-2.86zM5.41 20L4 18.59l7.72-7.72 1.47 1.35L5.41 20z\"/>\n",
              "  </svg>\n",
              "      </button>\n",
              "      \n",
              "  <style>\n",
              "    .colab-df-container {\n",
              "      display:flex;\n",
              "      flex-wrap:wrap;\n",
              "      gap: 12px;\n",
              "    }\n",
              "\n",
              "    .colab-df-convert {\n",
              "      background-color: #E8F0FE;\n",
              "      border: none;\n",
              "      border-radius: 50%;\n",
              "      cursor: pointer;\n",
              "      display: none;\n",
              "      fill: #1967D2;\n",
              "      height: 32px;\n",
              "      padding: 0 0 0 0;\n",
              "      width: 32px;\n",
              "    }\n",
              "\n",
              "    .colab-df-convert:hover {\n",
              "      background-color: #E2EBFA;\n",
              "      box-shadow: 0px 1px 2px rgba(60, 64, 67, 0.3), 0px 1px 3px 1px rgba(60, 64, 67, 0.15);\n",
              "      fill: #174EA6;\n",
              "    }\n",
              "\n",
              "    [theme=dark] .colab-df-convert {\n",
              "      background-color: #3B4455;\n",
              "      fill: #D2E3FC;\n",
              "    }\n",
              "\n",
              "    [theme=dark] .colab-df-convert:hover {\n",
              "      background-color: #434B5C;\n",
              "      box-shadow: 0px 1px 3px 1px rgba(0, 0, 0, 0.15);\n",
              "      filter: drop-shadow(0px 1px 2px rgba(0, 0, 0, 0.3));\n",
              "      fill: #FFFFFF;\n",
              "    }\n",
              "  </style>\n",
              "\n",
              "      <script>\n",
              "        const buttonEl =\n",
              "          document.querySelector('#df-e1a9a46e-25f8-4fde-8ec2-cdd053036db7 button.colab-df-convert');\n",
              "        buttonEl.style.display =\n",
              "          google.colab.kernel.accessAllowed ? 'block' : 'none';\n",
              "\n",
              "        async function convertToInteractive(key) {\n",
              "          const element = document.querySelector('#df-e1a9a46e-25f8-4fde-8ec2-cdd053036db7');\n",
              "          const dataTable =\n",
              "            await google.colab.kernel.invokeFunction('convertToInteractive',\n",
              "                                                     [key], {});\n",
              "          if (!dataTable) return;\n",
              "\n",
              "          const docLinkHtml = 'Like what you see? Visit the ' +\n",
              "            '<a target=\"_blank\" href=https://colab.research.google.com/notebooks/data_table.ipynb>data table notebook</a>'\n",
              "            + ' to learn more about interactive tables.';\n",
              "          element.innerHTML = '';\n",
              "          dataTable['output_type'] = 'display_data';\n",
              "          await google.colab.output.renderOutput(dataTable, element);\n",
              "          const docLink = document.createElement('div');\n",
              "          docLink.innerHTML = docLinkHtml;\n",
              "          element.appendChild(docLink);\n",
              "        }\n",
              "      </script>\n",
              "    </div>\n",
              "  </div>\n",
              "  "
            ]
          },
          "metadata": {},
          "execution_count": 10
        }
      ]
    },
    {
      "cell_type": "markdown",
      "source": [
        "Using OridnalEncoder to transform ordinal categorical data \n",
        "\n",
        "\n",
        "1.   Cholesterol\n",
        "2.   BP\n",
        "\n"
      ],
      "metadata": {
        "id": "hJeUzfGNSPED"
      }
    },
    {
      "cell_type": "code",
      "source": [
        "oe_bp=OrdinalEncoder(categories=[['LOW', 'NORMAL', 'HIGH']])\n",
        "oe_Cholesterol=OrdinalEncoder(categories=[['NORMAL', 'HIGH']])\n",
        "\n",
        "Cholesterol_Columns=oe_Cholesterol.fit_transform(df[['Cholesterol']])\n",
        "Cholesterol_final=pd.DataFrame(Cholesterol_Columns, columns=['Cholesterol_updated'])\n",
        "\n",
        "BP_Columns=oe_bp.fit_transform(df[['BP']])\n",
        "BP_final=pd.DataFrame(BP_Columns, columns=['BP_updated'])\n",
        "\n",
        "df=pd.concat([df, Cholesterol_final, BP_final], axis=1, sort=False)\n",
        "df.head()"
      ],
      "metadata": {
        "id": "eoa2cVRHNbti",
        "colab": {
          "base_uri": "https://localhost:8080/",
          "height": 206
        },
        "outputId": "4447ec2f-faed-46c0-daa7-645ac379717b"
      },
      "execution_count": null,
      "outputs": [
        {
          "output_type": "execute_result",
          "data": {
            "text/plain": [
              "   Age Sex      BP Cholesterol  Na_to_K   Drug  Sex_F  Sex_M  \\\n",
              "0   23   F    HIGH        HIGH   25.355  DrugY    1.0    0.0   \n",
              "1   47   M     LOW        HIGH   13.093  drugC    0.0    1.0   \n",
              "2   47   M     LOW        HIGH   10.114  drugC    0.0    1.0   \n",
              "3   28   F  NORMAL        HIGH    7.798  drugX    1.0    0.0   \n",
              "4   61   F     LOW        HIGH   18.043  DrugY    1.0    0.0   \n",
              "\n",
              "   Cholesterol_updated  BP_updated  \n",
              "0                  1.0         2.0  \n",
              "1                  1.0         0.0  \n",
              "2                  1.0         0.0  \n",
              "3                  1.0         1.0  \n",
              "4                  1.0         0.0  "
            ],
            "text/html": [
              "\n",
              "  <div id=\"df-8f1c60b0-fa35-462a-9674-d10fdba6112d\">\n",
              "    <div class=\"colab-df-container\">\n",
              "      <div>\n",
              "<style scoped>\n",
              "    .dataframe tbody tr th:only-of-type {\n",
              "        vertical-align: middle;\n",
              "    }\n",
              "\n",
              "    .dataframe tbody tr th {\n",
              "        vertical-align: top;\n",
              "    }\n",
              "\n",
              "    .dataframe thead th {\n",
              "        text-align: right;\n",
              "    }\n",
              "</style>\n",
              "<table border=\"1\" class=\"dataframe\">\n",
              "  <thead>\n",
              "    <tr style=\"text-align: right;\">\n",
              "      <th></th>\n",
              "      <th>Age</th>\n",
              "      <th>Sex</th>\n",
              "      <th>BP</th>\n",
              "      <th>Cholesterol</th>\n",
              "      <th>Na_to_K</th>\n",
              "      <th>Drug</th>\n",
              "      <th>Sex_F</th>\n",
              "      <th>Sex_M</th>\n",
              "      <th>Cholesterol_updated</th>\n",
              "      <th>BP_updated</th>\n",
              "    </tr>\n",
              "  </thead>\n",
              "  <tbody>\n",
              "    <tr>\n",
              "      <th>0</th>\n",
              "      <td>23</td>\n",
              "      <td>F</td>\n",
              "      <td>HIGH</td>\n",
              "      <td>HIGH</td>\n",
              "      <td>25.355</td>\n",
              "      <td>DrugY</td>\n",
              "      <td>1.0</td>\n",
              "      <td>0.0</td>\n",
              "      <td>1.0</td>\n",
              "      <td>2.0</td>\n",
              "    </tr>\n",
              "    <tr>\n",
              "      <th>1</th>\n",
              "      <td>47</td>\n",
              "      <td>M</td>\n",
              "      <td>LOW</td>\n",
              "      <td>HIGH</td>\n",
              "      <td>13.093</td>\n",
              "      <td>drugC</td>\n",
              "      <td>0.0</td>\n",
              "      <td>1.0</td>\n",
              "      <td>1.0</td>\n",
              "      <td>0.0</td>\n",
              "    </tr>\n",
              "    <tr>\n",
              "      <th>2</th>\n",
              "      <td>47</td>\n",
              "      <td>M</td>\n",
              "      <td>LOW</td>\n",
              "      <td>HIGH</td>\n",
              "      <td>10.114</td>\n",
              "      <td>drugC</td>\n",
              "      <td>0.0</td>\n",
              "      <td>1.0</td>\n",
              "      <td>1.0</td>\n",
              "      <td>0.0</td>\n",
              "    </tr>\n",
              "    <tr>\n",
              "      <th>3</th>\n",
              "      <td>28</td>\n",
              "      <td>F</td>\n",
              "      <td>NORMAL</td>\n",
              "      <td>HIGH</td>\n",
              "      <td>7.798</td>\n",
              "      <td>drugX</td>\n",
              "      <td>1.0</td>\n",
              "      <td>0.0</td>\n",
              "      <td>1.0</td>\n",
              "      <td>1.0</td>\n",
              "    </tr>\n",
              "    <tr>\n",
              "      <th>4</th>\n",
              "      <td>61</td>\n",
              "      <td>F</td>\n",
              "      <td>LOW</td>\n",
              "      <td>HIGH</td>\n",
              "      <td>18.043</td>\n",
              "      <td>DrugY</td>\n",
              "      <td>1.0</td>\n",
              "      <td>0.0</td>\n",
              "      <td>1.0</td>\n",
              "      <td>0.0</td>\n",
              "    </tr>\n",
              "  </tbody>\n",
              "</table>\n",
              "</div>\n",
              "      <button class=\"colab-df-convert\" onclick=\"convertToInteractive('df-8f1c60b0-fa35-462a-9674-d10fdba6112d')\"\n",
              "              title=\"Convert this dataframe to an interactive table.\"\n",
              "              style=\"display:none;\">\n",
              "        \n",
              "  <svg xmlns=\"http://www.w3.org/2000/svg\" height=\"24px\"viewBox=\"0 0 24 24\"\n",
              "       width=\"24px\">\n",
              "    <path d=\"M0 0h24v24H0V0z\" fill=\"none\"/>\n",
              "    <path d=\"M18.56 5.44l.94 2.06.94-2.06 2.06-.94-2.06-.94-.94-2.06-.94 2.06-2.06.94zm-11 1L8.5 8.5l.94-2.06 2.06-.94-2.06-.94L8.5 2.5l-.94 2.06-2.06.94zm10 10l.94 2.06.94-2.06 2.06-.94-2.06-.94-.94-2.06-.94 2.06-2.06.94z\"/><path d=\"M17.41 7.96l-1.37-1.37c-.4-.4-.92-.59-1.43-.59-.52 0-1.04.2-1.43.59L10.3 9.45l-7.72 7.72c-.78.78-.78 2.05 0 2.83L4 21.41c.39.39.9.59 1.41.59.51 0 1.02-.2 1.41-.59l7.78-7.78 2.81-2.81c.8-.78.8-2.07 0-2.86zM5.41 20L4 18.59l7.72-7.72 1.47 1.35L5.41 20z\"/>\n",
              "  </svg>\n",
              "      </button>\n",
              "      \n",
              "  <style>\n",
              "    .colab-df-container {\n",
              "      display:flex;\n",
              "      flex-wrap:wrap;\n",
              "      gap: 12px;\n",
              "    }\n",
              "\n",
              "    .colab-df-convert {\n",
              "      background-color: #E8F0FE;\n",
              "      border: none;\n",
              "      border-radius: 50%;\n",
              "      cursor: pointer;\n",
              "      display: none;\n",
              "      fill: #1967D2;\n",
              "      height: 32px;\n",
              "      padding: 0 0 0 0;\n",
              "      width: 32px;\n",
              "    }\n",
              "\n",
              "    .colab-df-convert:hover {\n",
              "      background-color: #E2EBFA;\n",
              "      box-shadow: 0px 1px 2px rgba(60, 64, 67, 0.3), 0px 1px 3px 1px rgba(60, 64, 67, 0.15);\n",
              "      fill: #174EA6;\n",
              "    }\n",
              "\n",
              "    [theme=dark] .colab-df-convert {\n",
              "      background-color: #3B4455;\n",
              "      fill: #D2E3FC;\n",
              "    }\n",
              "\n",
              "    [theme=dark] .colab-df-convert:hover {\n",
              "      background-color: #434B5C;\n",
              "      box-shadow: 0px 1px 3px 1px rgba(0, 0, 0, 0.15);\n",
              "      filter: drop-shadow(0px 1px 2px rgba(0, 0, 0, 0.3));\n",
              "      fill: #FFFFFF;\n",
              "    }\n",
              "  </style>\n",
              "\n",
              "      <script>\n",
              "        const buttonEl =\n",
              "          document.querySelector('#df-8f1c60b0-fa35-462a-9674-d10fdba6112d button.colab-df-convert');\n",
              "        buttonEl.style.display =\n",
              "          google.colab.kernel.accessAllowed ? 'block' : 'none';\n",
              "\n",
              "        async function convertToInteractive(key) {\n",
              "          const element = document.querySelector('#df-8f1c60b0-fa35-462a-9674-d10fdba6112d');\n",
              "          const dataTable =\n",
              "            await google.colab.kernel.invokeFunction('convertToInteractive',\n",
              "                                                     [key], {});\n",
              "          if (!dataTable) return;\n",
              "\n",
              "          const docLinkHtml = 'Like what you see? Visit the ' +\n",
              "            '<a target=\"_blank\" href=https://colab.research.google.com/notebooks/data_table.ipynb>data table notebook</a>'\n",
              "            + ' to learn more about interactive tables.';\n",
              "          element.innerHTML = '';\n",
              "          dataTable['output_type'] = 'display_data';\n",
              "          await google.colab.output.renderOutput(dataTable, element);\n",
              "          const docLink = document.createElement('div');\n",
              "          docLink.innerHTML = docLinkHtml;\n",
              "          element.appendChild(docLink);\n",
              "        }\n",
              "      </script>\n",
              "    </div>\n",
              "  </div>\n",
              "  "
            ]
          },
          "metadata": {},
          "execution_count": 11
        }
      ]
    },
    {
      "cell_type": "markdown",
      "source": [
        "\n",
        "Encoding the drugs as the output"
      ],
      "metadata": {
        "id": "TnreDTccRrdl"
      }
    },
    {
      "cell_type": "code",
      "source": [
        "label_encoder = LabelEncoder()\n",
        "y = label_encoder.fit_transform(df[['Drug']])\n",
        "y"
      ],
      "metadata": {
        "colab": {
          "base_uri": "https://localhost:8080/"
        },
        "id": "tfoBD3GIQk_r",
        "outputId": "5589f2a4-e291-4701-9bbb-162651374503"
      },
      "execution_count": null,
      "outputs": [
        {
          "output_type": "stream",
          "name": "stderr",
          "text": [
            "/usr/local/lib/python3.9/dist-packages/sklearn/preprocessing/_label.py:116: DataConversionWarning: A column-vector y was passed when a 1d array was expected. Please change the shape of y to (n_samples, ), for example using ravel().\n",
            "  y = column_or_1d(y, warn=True)\n"
          ]
        },
        {
          "output_type": "execute_result",
          "data": {
            "text/plain": [
              "array([0, 3, 3, 4, 0, 4, 0, 3, 0, 0, 3, 0, 0, 0, 4, 0, 4, 1, 3, 0, 0, 0,\n",
              "       0, 0, 0, 0, 0, 4, 0, 0, 4, 2, 4, 0, 4, 4, 1, 4, 4, 4, 0, 2, 0, 4,\n",
              "       4, 4, 1, 3, 0, 0, 0, 4, 0, 0, 2, 3, 2, 0, 4, 0, 0, 1, 0, 4, 2, 0,\n",
              "       1, 4, 0, 0, 2, 0, 4, 0, 0, 0, 1, 0, 1, 4, 2, 4, 3, 1, 3, 2, 4, 0,\n",
              "       0, 0, 0, 0, 0, 0, 0, 4, 0, 0, 0, 0, 1, 1, 3, 4, 0, 4, 4, 0, 2, 0,\n",
              "       1, 4, 4, 4, 4, 0, 4, 4, 1, 0, 0, 0, 0, 0, 2, 0, 0, 4, 0, 4, 0, 0,\n",
              "       4, 0, 0, 4, 2, 1, 2, 4, 1, 0, 2, 0, 1, 4, 4, 1, 4, 3, 1, 2, 4, 4,\n",
              "       0, 3, 1, 0, 3, 4, 4, 2, 4, 0, 0, 0, 0, 4, 0, 1, 4, 4, 0, 0, 1, 0,\n",
              "       1, 0, 0, 0, 0, 4, 4, 0, 0, 0, 2, 1, 0, 0, 0, 1, 0, 3, 0, 3, 3, 4,\n",
              "       4, 4])"
            ]
          },
          "metadata": {},
          "execution_count": 113
        }
      ]
    },
    {
      "cell_type": "markdown",
      "source": [
        "Creating a train-test split (80:20)"
      ],
      "metadata": {
        "id": "y0h0_VqGSzDw"
      }
    },
    {
      "cell_type": "code",
      "source": [
        "X=df.drop(df.select_dtypes(include=[object]).columns, axis=1)\n",
        "\n",
        "X_train, X_test, y_train, y_test = train_test_split(X, y, random_state=None, test_size=0.2, shuffle=True)\n",
        "X"
      ],
      "metadata": {
        "colab": {
          "base_uri": "https://localhost:8080/",
          "height": 423
        },
        "id": "Dd6_CNQRWmtx",
        "outputId": "492dbc7d-a7f2-40b3-bfd6-42d561f4a50e"
      },
      "execution_count": null,
      "outputs": [
        {
          "output_type": "execute_result",
          "data": {
            "text/plain": [
              "     Age  Na_to_K  Sex_F  Sex_M  Cholesterol_updated  BP_updated\n",
              "0     23   25.355    1.0    0.0                  1.0         2.0\n",
              "1     47   13.093    0.0    1.0                  1.0         0.0\n",
              "2     47   10.114    0.0    1.0                  1.0         0.0\n",
              "3     28    7.798    1.0    0.0                  1.0         1.0\n",
              "4     61   18.043    1.0    0.0                  1.0         0.0\n",
              "..   ...      ...    ...    ...                  ...         ...\n",
              "195   56   11.567    1.0    0.0                  1.0         0.0\n",
              "196   16   12.006    0.0    1.0                  1.0         0.0\n",
              "197   52    9.894    0.0    1.0                  1.0         1.0\n",
              "198   23   14.020    0.0    1.0                  0.0         1.0\n",
              "199   40   11.349    1.0    0.0                  0.0         0.0\n",
              "\n",
              "[200 rows x 6 columns]"
            ],
            "text/html": [
              "\n",
              "  <div id=\"df-276a8716-203b-43be-866c-7958a35c36fe\">\n",
              "    <div class=\"colab-df-container\">\n",
              "      <div>\n",
              "<style scoped>\n",
              "    .dataframe tbody tr th:only-of-type {\n",
              "        vertical-align: middle;\n",
              "    }\n",
              "\n",
              "    .dataframe tbody tr th {\n",
              "        vertical-align: top;\n",
              "    }\n",
              "\n",
              "    .dataframe thead th {\n",
              "        text-align: right;\n",
              "    }\n",
              "</style>\n",
              "<table border=\"1\" class=\"dataframe\">\n",
              "  <thead>\n",
              "    <tr style=\"text-align: right;\">\n",
              "      <th></th>\n",
              "      <th>Age</th>\n",
              "      <th>Na_to_K</th>\n",
              "      <th>Sex_F</th>\n",
              "      <th>Sex_M</th>\n",
              "      <th>Cholesterol_updated</th>\n",
              "      <th>BP_updated</th>\n",
              "    </tr>\n",
              "  </thead>\n",
              "  <tbody>\n",
              "    <tr>\n",
              "      <th>0</th>\n",
              "      <td>23</td>\n",
              "      <td>25.355</td>\n",
              "      <td>1.0</td>\n",
              "      <td>0.0</td>\n",
              "      <td>1.0</td>\n",
              "      <td>2.0</td>\n",
              "    </tr>\n",
              "    <tr>\n",
              "      <th>1</th>\n",
              "      <td>47</td>\n",
              "      <td>13.093</td>\n",
              "      <td>0.0</td>\n",
              "      <td>1.0</td>\n",
              "      <td>1.0</td>\n",
              "      <td>0.0</td>\n",
              "    </tr>\n",
              "    <tr>\n",
              "      <th>2</th>\n",
              "      <td>47</td>\n",
              "      <td>10.114</td>\n",
              "      <td>0.0</td>\n",
              "      <td>1.0</td>\n",
              "      <td>1.0</td>\n",
              "      <td>0.0</td>\n",
              "    </tr>\n",
              "    <tr>\n",
              "      <th>3</th>\n",
              "      <td>28</td>\n",
              "      <td>7.798</td>\n",
              "      <td>1.0</td>\n",
              "      <td>0.0</td>\n",
              "      <td>1.0</td>\n",
              "      <td>1.0</td>\n",
              "    </tr>\n",
              "    <tr>\n",
              "      <th>4</th>\n",
              "      <td>61</td>\n",
              "      <td>18.043</td>\n",
              "      <td>1.0</td>\n",
              "      <td>0.0</td>\n",
              "      <td>1.0</td>\n",
              "      <td>0.0</td>\n",
              "    </tr>\n",
              "    <tr>\n",
              "      <th>...</th>\n",
              "      <td>...</td>\n",
              "      <td>...</td>\n",
              "      <td>...</td>\n",
              "      <td>...</td>\n",
              "      <td>...</td>\n",
              "      <td>...</td>\n",
              "    </tr>\n",
              "    <tr>\n",
              "      <th>195</th>\n",
              "      <td>56</td>\n",
              "      <td>11.567</td>\n",
              "      <td>1.0</td>\n",
              "      <td>0.0</td>\n",
              "      <td>1.0</td>\n",
              "      <td>0.0</td>\n",
              "    </tr>\n",
              "    <tr>\n",
              "      <th>196</th>\n",
              "      <td>16</td>\n",
              "      <td>12.006</td>\n",
              "      <td>0.0</td>\n",
              "      <td>1.0</td>\n",
              "      <td>1.0</td>\n",
              "      <td>0.0</td>\n",
              "    </tr>\n",
              "    <tr>\n",
              "      <th>197</th>\n",
              "      <td>52</td>\n",
              "      <td>9.894</td>\n",
              "      <td>0.0</td>\n",
              "      <td>1.0</td>\n",
              "      <td>1.0</td>\n",
              "      <td>1.0</td>\n",
              "    </tr>\n",
              "    <tr>\n",
              "      <th>198</th>\n",
              "      <td>23</td>\n",
              "      <td>14.020</td>\n",
              "      <td>0.0</td>\n",
              "      <td>1.0</td>\n",
              "      <td>0.0</td>\n",
              "      <td>1.0</td>\n",
              "    </tr>\n",
              "    <tr>\n",
              "      <th>199</th>\n",
              "      <td>40</td>\n",
              "      <td>11.349</td>\n",
              "      <td>1.0</td>\n",
              "      <td>0.0</td>\n",
              "      <td>0.0</td>\n",
              "      <td>0.0</td>\n",
              "    </tr>\n",
              "  </tbody>\n",
              "</table>\n",
              "<p>200 rows × 6 columns</p>\n",
              "</div>\n",
              "      <button class=\"colab-df-convert\" onclick=\"convertToInteractive('df-276a8716-203b-43be-866c-7958a35c36fe')\"\n",
              "              title=\"Convert this dataframe to an interactive table.\"\n",
              "              style=\"display:none;\">\n",
              "        \n",
              "  <svg xmlns=\"http://www.w3.org/2000/svg\" height=\"24px\"viewBox=\"0 0 24 24\"\n",
              "       width=\"24px\">\n",
              "    <path d=\"M0 0h24v24H0V0z\" fill=\"none\"/>\n",
              "    <path d=\"M18.56 5.44l.94 2.06.94-2.06 2.06-.94-2.06-.94-.94-2.06-.94 2.06-2.06.94zm-11 1L8.5 8.5l.94-2.06 2.06-.94-2.06-.94L8.5 2.5l-.94 2.06-2.06.94zm10 10l.94 2.06.94-2.06 2.06-.94-2.06-.94-.94-2.06-.94 2.06-2.06.94z\"/><path d=\"M17.41 7.96l-1.37-1.37c-.4-.4-.92-.59-1.43-.59-.52 0-1.04.2-1.43.59L10.3 9.45l-7.72 7.72c-.78.78-.78 2.05 0 2.83L4 21.41c.39.39.9.59 1.41.59.51 0 1.02-.2 1.41-.59l7.78-7.78 2.81-2.81c.8-.78.8-2.07 0-2.86zM5.41 20L4 18.59l7.72-7.72 1.47 1.35L5.41 20z\"/>\n",
              "  </svg>\n",
              "      </button>\n",
              "      \n",
              "  <style>\n",
              "    .colab-df-container {\n",
              "      display:flex;\n",
              "      flex-wrap:wrap;\n",
              "      gap: 12px;\n",
              "    }\n",
              "\n",
              "    .colab-df-convert {\n",
              "      background-color: #E8F0FE;\n",
              "      border: none;\n",
              "      border-radius: 50%;\n",
              "      cursor: pointer;\n",
              "      display: none;\n",
              "      fill: #1967D2;\n",
              "      height: 32px;\n",
              "      padding: 0 0 0 0;\n",
              "      width: 32px;\n",
              "    }\n",
              "\n",
              "    .colab-df-convert:hover {\n",
              "      background-color: #E2EBFA;\n",
              "      box-shadow: 0px 1px 2px rgba(60, 64, 67, 0.3), 0px 1px 3px 1px rgba(60, 64, 67, 0.15);\n",
              "      fill: #174EA6;\n",
              "    }\n",
              "\n",
              "    [theme=dark] .colab-df-convert {\n",
              "      background-color: #3B4455;\n",
              "      fill: #D2E3FC;\n",
              "    }\n",
              "\n",
              "    [theme=dark] .colab-df-convert:hover {\n",
              "      background-color: #434B5C;\n",
              "      box-shadow: 0px 1px 3px 1px rgba(0, 0, 0, 0.15);\n",
              "      filter: drop-shadow(0px 1px 2px rgba(0, 0, 0, 0.3));\n",
              "      fill: #FFFFFF;\n",
              "    }\n",
              "  </style>\n",
              "\n",
              "      <script>\n",
              "        const buttonEl =\n",
              "          document.querySelector('#df-276a8716-203b-43be-866c-7958a35c36fe button.colab-df-convert');\n",
              "        buttonEl.style.display =\n",
              "          google.colab.kernel.accessAllowed ? 'block' : 'none';\n",
              "\n",
              "        async function convertToInteractive(key) {\n",
              "          const element = document.querySelector('#df-276a8716-203b-43be-866c-7958a35c36fe');\n",
              "          const dataTable =\n",
              "            await google.colab.kernel.invokeFunction('convertToInteractive',\n",
              "                                                     [key], {});\n",
              "          if (!dataTable) return;\n",
              "\n",
              "          const docLinkHtml = 'Like what you see? Visit the ' +\n",
              "            '<a target=\"_blank\" href=https://colab.research.google.com/notebooks/data_table.ipynb>data table notebook</a>'\n",
              "            + ' to learn more about interactive tables.';\n",
              "          element.innerHTML = '';\n",
              "          dataTable['output_type'] = 'display_data';\n",
              "          await google.colab.output.renderOutput(dataTable, element);\n",
              "          const docLink = document.createElement('div');\n",
              "          docLink.innerHTML = docLinkHtml;\n",
              "          element.appendChild(docLink);\n",
              "        }\n",
              "      </script>\n",
              "    </div>\n",
              "  </div>\n",
              "  "
            ]
          },
          "metadata": {},
          "execution_count": 114
        }
      ]
    },
    {
      "cell_type": "markdown",
      "source": [
        "**Multiclass Classifiers**\n",
        "\n",
        "Accuracy Scores\n",
        "\n",
        "Confusion Matrix\n",
        "\n",
        "F1 Score"
      ],
      "metadata": {
        "id": "rahsX_81TbfV"
      }
    },
    {
      "cell_type": "markdown",
      "source": [
        "1) Logistic Regression"
      ],
      "metadata": {
        "id": "oPg-6ZnyTbqF"
      }
    },
    {
      "cell_type": "code",
      "source": [
        "LR=LogisticRegression(random_state=0, solver='lbfgs', multi_class='ovr', max_iter = 2000).fit(X_train, y_train)\n",
        "predictions_LR=LR.predict(X_test)\n",
        "train_predictions_LR=LR.predict(X_train)\n",
        "score_LR=accuracy_score(y_test, predictions_LR)\n",
        "train_score_LR=accuracy_score(y_train, train_predictions_LR)\n",
        "f1_score_LR = f1_score(y_test, predictions_LR, average=\"weighted\")\n",
        "cm_LR=confusion_matrix(y_test, predictions_LR)\n",
        "prob_pred_LR=LR.predict_proba(X_test)\n",
        "auc_LR=roc_auc_score(y_test, prob_pred_LR, multi_class='ovo', average='weighted')"
      ],
      "metadata": {
        "id": "ehLh3tize6_l"
      },
      "execution_count": null,
      "outputs": []
    },
    {
      "cell_type": "code",
      "source": [
        "print(f\"Train accuracy: {train_score_LR}\")\n",
        "print(f\"Test accuracy: {score_LR}\")\n",
        "print(f\"Test F1-score: {f1_score_LR}\")"
      ],
      "metadata": {
        "colab": {
          "base_uri": "https://localhost:8080/"
        },
        "id": "EKLjmBtUsfeY",
        "outputId": "2642584b-e304-434d-9f10-57fb62c2bb68"
      },
      "execution_count": null,
      "outputs": [
        {
          "output_type": "stream",
          "name": "stdout",
          "text": [
            "Train accuracy: 0.95\n",
            "Test accuracy: 0.825\n",
            "Test F1-score: 0.8106902356902358\n"
          ]
        }
      ]
    },
    {
      "cell_type": "code",
      "source": [
        "labels = ['DrugY', 'drugA', 'drugB', 'drugC', 'drugX']\n",
        " \n",
        "sns.heatmap(cm_LR, square=True, annot=True, fmt='d', cbar=False, cmap='Blues',\n",
        "            xticklabels=labels, yticklabels=labels)\n",
        " \n",
        "plt.xlabel('Predicted label')\n",
        "plt.ylabel('Actual label')"
      ],
      "metadata": {
        "colab": {
          "base_uri": "https://localhost:8080/",
          "height": 278
        },
        "id": "IpUJXxFKAbWt",
        "outputId": "df2f6f91-e925-4126-f6a6-0ef59e50ed1a"
      },
      "execution_count": null,
      "outputs": [
        {
          "output_type": "execute_result",
          "data": {
            "text/plain": [
              "Text(142.3, 0.5, 'Actual label')"
            ]
          },
          "metadata": {},
          "execution_count": 37
        },
        {
          "output_type": "display_data",
          "data": {
            "text/plain": [
              "<Figure size 540x252 with 1 Axes>"
            ],
            "image/png": "[encoded data removed]"
          },
          "metadata": {
            "needs_background": "light"
          }
        }
      ]
    },
    {
      "cell_type": "code",
      "source": [
        "# roc curve for classes\n",
        "fpr = {}\n",
        "tpr = {}\n",
        "thresh ={}\n",
        "\n",
        "n_class = 5\n",
        "\n",
        "for i in range(n_class):    \n",
        "    fpr[i], tpr[i], thresh[i] = roc_curve(y_test, prob_pred_LR[:,i], pos_label=i)\n",
        "    \n",
        "# plotting    \n",
        "plt.plot(fpr[0], tpr[0], linestyle='--',color='blue', label='DrugY vs Rest')\n",
        "plt.plot(fpr[1], tpr[1], linestyle='--',color='green', label='drugA vs Rest')\n",
        "plt.plot(fpr[2], tpr[2], linestyle='--',color='pink', label='drugB vs Rest')\n",
        "plt.plot(fpr[3], tpr[3], linestyle='--',color='yellow', label='drugC vs Rest')\n",
        "plt.plot(fpr[4], tpr[4], linestyle='--',color='red', label='drugX vs Rest')\n",
        "plt.title('Multiclass ROC curve for Logistic Regression')\n",
        "plt.xlabel('False Positive Rate')\n",
        "plt.ylabel('True Positive rate')\n",
        "plt.legend(loc='best')\n",
        "plt.savefig('Multiclass ROC',dpi=300);  "
      ],
      "metadata": {
        "colab": {
          "base_uri": "https://localhost:8080/",
          "height": 261
        },
        "id": "43PHh3At6jmZ",
        "outputId": "2f971365-5acf-49c8-c869-4ac5a4628fb1"
      },
      "execution_count": null,
      "outputs": [
        {
          "output_type": "display_data",
          "data": {
            "text/plain": [
              "<Figure size 540x252 with 1 Axes>"
            ],
            "image/png": "[encoded data removed]"
          },
          "metadata": {
            "needs_background": "light"
          }
        }
      ]
    },
    {
      "cell_type": "code",
      "source": [
        "print(f\"Weighted AUC: {auc_LR}\")"
      ],
      "metadata": {
        "colab": {
          "base_uri": "https://localhost:8080/"
        },
        "id": "f1OViynIsqk5",
        "outputId": "60369f30-9f84-40ef-81b2-2e6e409d4cbf"
      },
      "execution_count": null,
      "outputs": [
        {
          "output_type": "stream",
          "name": "stdout",
          "text": [
            "Weighted AUC: 0.9582031249999999\n"
          ]
        }
      ]
    },
    {
      "cell_type": "markdown",
      "source": [
        "2) Decision Tree"
      ],
      "metadata": {
        "id": "uLrBtO8WUQnZ"
      }
    },
    {
      "cell_type": "code",
      "source": [
        "DT=DecisionTreeClassifier(max_depth=7).fit(X_train, y_train)\n",
        "predictions_DT=DT.predict(X_test)\n",
        "train_predictions_DT=DT.predict(X_train)\n",
        "score_DT=accuracy_score(y_test, predictions_DT)\n",
        "train_score_DT=accuracy_score(y_train, train_predictions_DT)\n",
        "f1_score_DT = f1_score(y_test, predictions_DT, average=\"weighted\")\n",
        "cm_DT=confusion_matrix(y_test, predictions_DT)\n",
        "prob_pred_DT=DT.predict_proba(X_test)\n",
        "auc_DT=roc_auc_score(y_test, prob_pred_DT, multi_class='ovo', average='weighted')"
      ],
      "metadata": {
        "id": "WAfxo9fu_5ks"
      },
      "execution_count": null,
      "outputs": []
    },
    {
      "cell_type": "code",
      "source": [
        "print(f\"Train accuracy: {train_score_DT}\")\n",
        "print(f\"Test accuracy: {score_DT}\")\n",
        "print(f\"Test F1-score: {f1_score_DT}\")"
      ],
      "metadata": {
        "colab": {
          "base_uri": "https://localhost:8080/"
        },
        "id": "JtZ2ByCpsveY",
        "outputId": "b7f09bf8-88e2-47b7-eadd-72c84d8bf5d5"
      },
      "execution_count": null,
      "outputs": [
        {
          "output_type": "stream",
          "name": "stdout",
          "text": [
            "Train accuracy: 1.0\n",
            "Test accuracy: 1.0\n",
            "Test F1-score: 1.0\n"
          ]
        }
      ]
    },
    {
      "cell_type": "code",
      "source": [
        "labels = ['DrugY', 'drugA', 'drugB', 'drugC', 'drugX']\n",
        " \n",
        "sns.heatmap(cm_DT, square=True, annot=True, fmt='d', cbar=False, cmap='Blues',\n",
        "            xticklabels=labels, yticklabels=labels)\n",
        " \n",
        "plt.xlabel('Predicted label')\n",
        "plt.ylabel('Actual label')"
      ],
      "metadata": {
        "colab": {
          "base_uri": "https://localhost:8080/",
          "height": 278
        },
        "id": "Emwd4fLIsxnt",
        "outputId": "4b5cb30c-7fbe-4b46-efd8-ba5a50ce1f09"
      },
      "execution_count": null,
      "outputs": [
        {
          "output_type": "execute_result",
          "data": {
            "text/plain": [
              "Text(142.3, 0.5, 'Actual label')"
            ]
          },
          "metadata": {},
          "execution_count": 119
        },
        {
          "output_type": "display_data",
          "data": {
            "text/plain": [
              "<Figure size 540x252 with 1 Axes>"
            ],
            "image/png": "[encoded data removed]"
          },
          "metadata": {
            "needs_background": "light"
          }
        }
      ]
    },
    {
      "cell_type": "code",
      "source": [
        "# roc curve for classes\n",
        "fpr = {}\n",
        "tpr = {}\n",
        "thresh ={}\n",
        "\n",
        "n_class = 5\n",
        "\n",
        "for i in range(n_class):    \n",
        "    fpr[i], tpr[i], thresh[i] = roc_curve(y_test, prob_pred_DT[:,i], pos_label=i)\n",
        "    \n",
        "# plotting    \n",
        "plt.plot(fpr[0], tpr[0], linestyle='--',color='blue', label='DrugY vs Rest')\n",
        "plt.plot(fpr[1], tpr[1], linestyle='--',color='green', label='drugA vs Rest')\n",
        "plt.plot(fpr[2], tpr[2], linestyle='--',color='pink', label='drugB vs Rest')\n",
        "plt.plot(fpr[3], tpr[3], linestyle='--',color='yellow', label='drugC vs Rest')\n",
        "plt.plot(fpr[4], tpr[4], linestyle='--',color='red', label='drugX vs Rest')\n",
        "plt.title('Multiclass ROC curve for Decision Tree')\n",
        "plt.xlabel('False Positive Rate')\n",
        "plt.ylabel('True Positive rate')\n",
        "plt.legend(loc='best')\n",
        "plt.savefig('Multiclass ROC',dpi=300);  "
      ],
      "metadata": {
        "colab": {
          "base_uri": "https://localhost:8080/",
          "height": 261
        },
        "id": "kavhuFf-HbMp",
        "outputId": "7ac83059-b3e9-4efe-a00c-55eb3a62c6f3"
      },
      "execution_count": null,
      "outputs": [
        {
          "output_type": "display_data",
          "data": {
            "text/plain": [
              "<Figure size 540x252 with 1 Axes>"
            ],
            "image/png": "[encoded data removed]"
          },
          "metadata": {
            "needs_background": "light"
          }
        }
      ]
    },
    {
      "cell_type": "code",
      "source": [
        "print(f\"Weighted AUC: {auc_DT}\")"
      ],
      "metadata": {
        "colab": {
          "base_uri": "https://localhost:8080/"
        },
        "id": "BPGjpmyes1fg",
        "outputId": "eed3ee5c-e7dd-4cf6-ad1d-0988e2f3ffca"
      },
      "execution_count": null,
      "outputs": [
        {
          "output_type": "stream",
          "name": "stdout",
          "text": [
            "Weighted AUC: 1.0\n"
          ]
        }
      ]
    },
    {
      "cell_type": "code",
      "source": [
        "from tensorflow.keras.utils import to_categorical\n",
        "y_train = to_categorical(y_train, 5)\n",
        "y_test = to_categorical(y_test, 5)\n",
        "y_train.shape"
      ],
      "metadata": {
        "colab": {
          "base_uri": "https://localhost:8080/"
        },
        "id": "2_z2_LEeEux6",
        "outputId": "ff0ed087-564c-44c4-c813-4da58f7733c6"
      },
      "execution_count": null,
      "outputs": [
        {
          "output_type": "execute_result",
          "data": {
            "text/plain": [
              "(160, 5)"
            ]
          },
          "metadata": {},
          "execution_count": 122
        }
      ]
    },
    {
      "cell_type": "markdown",
      "source": [
        "3) Artificial Neural Network"
      ],
      "metadata": {
        "id": "6n6WgAn9UsZ2"
      }
    },
    {
      "cell_type": "code",
      "source": [
        "model = models.Sequential()\n",
        "model.add(layers.Dense(1024, activation='relu', input_shape=(6,)))\n",
        "model.add(layers.Dense(5, activation='softmax'))"
      ],
      "metadata": {
        "id": "kBAMMViG8VWi"
      },
      "execution_count": null,
      "outputs": []
    },
    {
      "cell_type": "code",
      "source": [
        "model.compile(loss='categorical_crossentropy',\n",
        "              optimizer='adam',\n",
        "              metrics=['accuracy'])"
      ],
      "metadata": {
        "id": "eDRO8CzdRG6M"
      },
      "execution_count": null,
      "outputs": []
    },
    {
      "cell_type": "code",
      "source": [
        "checkpoint_filepath = '{epoch:02d}.h5'\n",
        "checkpoint_dir = os.path.dirname(checkpoint_filepath)\n",
        "\n",
        "model_checkpoint_callback = keras.callbacks.ModelCheckpoint(\n",
        "    filepath=checkpoint_filepath,\n",
        "    save_weights_only=True,\n",
        "    monitor='val_accuracy',\n",
        "    mode='max',\n",
        "    verbose=1,\n",
        "    save_best_only=True)\n",
        "\n",
        "cb = [model_checkpoint_callback]\n",
        "\n"
      ],
      "metadata": {
        "id": "d24iixCuHIHZ"
      },
      "execution_count": null,
      "outputs": []
    },
    {
      "cell_type": "code",
      "source": [
        "hist1 = model.fit(X_train,\n",
        "                    y_train,\n",
        "                    epochs=150,\n",
        "                    validation_data=(X_test, y_test),\n",
        "                  callbacks=cb)"
      ],
      "metadata": {
        "colab": {
          "base_uri": "https://localhost:8080/"
        },
        "id": "BCr8aP_zQBh7",
        "outputId": "d18fcf16-b4b2-42a1-e444-90fcb176cdee"
      },
      "execution_count": null,
      "outputs": [
        {
          "output_type": "stream",
          "name": "stdout",
          "text": [
            "Epoch 1/150\n",
            "1/5 [=====>........................] - ETA: 2s - loss: 0.9305 - accuracy: 0.5625\n",
            "Epoch 1: val_accuracy improved from -inf to 0.40000, saving model to 01.h5\n",
            "5/5 [==============================] - 1s 59ms/step - loss: 1.1175 - accuracy: 0.5625 - val_loss: 1.7264 - val_accuracy: 0.4000\n",
            "Epoch 2/150\n",
            "1/5 [=====>........................] - ETA: 0s - loss: 1.3826 - accuracy: 0.5000\n",
            "Epoch 2: val_accuracy improved from 0.40000 to 0.60000, saving model to 02.h5\n",
            "5/5 [==============================] - 0s 18ms/step - loss: 1.1716 - accuracy: 0.5312 - val_loss: 1.0227 - val_accuracy: 0.6000\n",
            "Epoch 3/150\n",
            "1/5 [=====>........................] - ETA: 0s - loss: 0.7947 - accuracy: 0.6250\n",
            "Epoch 3: val_accuracy did not improve from 0.60000\n",
            "5/5 [==============================] - 0s 15ms/step - loss: 0.9575 - accuracy: 0.5625 - val_loss: 1.1558 - val_accuracy: 0.4750\n",
            "Epoch 4/150\n",
            "1/5 [=====>........................] - ETA: 0s - loss: 1.0081 - accuracy: 0.5938\n",
            "Epoch 4: val_accuracy did not improve from 0.60000\n",
            "5/5 [==============================] - 0s 12ms/step - loss: 0.9455 - accuracy: 0.6187 - val_loss: 1.0746 - val_accuracy: 0.5500\n",
            "Epoch 5/150\n",
            "1/5 [=====>........................] - ETA: 0s - loss: 0.8336 - accuracy: 0.7500\n",
            "Epoch 5: val_accuracy improved from 0.60000 to 0.65000, saving model to 05.h5\n",
            "5/5 [==============================] - 0s 13ms/step - loss: 0.8711 - accuracy: 0.6187 - val_loss: 0.9127 - val_accuracy: 0.6500\n",
            "Epoch 6/150\n",
            "1/5 [=====>........................] - ETA: 0s - loss: 0.8699 - accuracy: 0.5938\n",
            "Epoch 6: val_accuracy did not improve from 0.65000\n",
            "5/5 [==============================] - 0s 12ms/step - loss: 0.8459 - accuracy: 0.6250 - val_loss: 1.0515 - val_accuracy: 0.5250\n",
            "Epoch 7/150\n",
            "1/5 [=====>........................] - ETA: 0s - loss: 0.8504 - accuracy: 0.7500\n",
            "Epoch 7: val_accuracy did not improve from 0.65000\n",
            "5/5 [==============================] - 0s 17ms/step - loss: 0.7848 - accuracy: 0.7437 - val_loss: 0.9298 - val_accuracy: 0.6250\n",
            "Epoch 8/150\n",
            "1/5 [=====>........................] - ETA: 0s - loss: 0.7730 - accuracy: 0.6250\n",
            "Epoch 8: val_accuracy did not improve from 0.65000\n",
            "5/5 [==============================] - 0s 15ms/step - loss: 0.7751 - accuracy: 0.6438 - val_loss: 0.9401 - val_accuracy: 0.5250\n",
            "Epoch 9/150\n",
            "1/5 [=====>........................] - ETA: 0s - loss: 0.7750 - accuracy: 0.6875\n",
            "Epoch 9: val_accuracy improved from 0.65000 to 0.70000, saving model to 09.h5\n",
            "5/5 [==============================] - 0s 13ms/step - loss: 0.7610 - accuracy: 0.6500 - val_loss: 0.9043 - val_accuracy: 0.7000\n",
            "Epoch 10/150\n",
            "1/5 [=====>........................] - ETA: 0s - loss: 0.6683 - accuracy: 0.7812\n",
            "Epoch 10: val_accuracy did not improve from 0.70000\n",
            "5/5 [==============================] - 0s 11ms/step - loss: 0.7538 - accuracy: 0.6875 - val_loss: 0.9054 - val_accuracy: 0.5750\n",
            "Epoch 11/150\n",
            "1/5 [=====>........................] - ETA: 0s - loss: 0.6963 - accuracy: 0.7812\n",
            "Epoch 11: val_accuracy did not improve from 0.70000\n",
            "5/5 [==============================] - 0s 12ms/step - loss: 0.7088 - accuracy: 0.6812 - val_loss: 0.8772 - val_accuracy: 0.6000\n",
            "Epoch 12/150\n",
            "1/5 [=====>........................] - ETA: 0s - loss: 0.4929 - accuracy: 0.7500\n",
            "Epoch 12: val_accuracy improved from 0.70000 to 0.77500, saving model to 12.h5\n",
            "5/5 [==============================] - 0s 13ms/step - loss: 0.7049 - accuracy: 0.7063 - val_loss: 0.8630 - val_accuracy: 0.7750\n",
            "Epoch 13/150\n",
            "1/5 [=====>........................] - ETA: 0s - loss: 0.6546 - accuracy: 0.7812\n",
            "Epoch 13: val_accuracy did not improve from 0.77500\n",
            "5/5 [==============================] - 0s 17ms/step - loss: 0.7069 - accuracy: 0.7437 - val_loss: 0.8889 - val_accuracy: 0.5250\n",
            "Epoch 14/150\n",
            "1/5 [=====>........................] - ETA: 0s - loss: 0.6275 - accuracy: 0.8125\n",
            "Epoch 14: val_accuracy did not improve from 0.77500\n",
            "5/5 [==============================] - 0s 17ms/step - loss: 0.6916 - accuracy: 0.7563 - val_loss: 0.8456 - val_accuracy: 0.6250\n",
            "Epoch 15/150\n",
            "1/5 [=====>........................] - ETA: 0s - loss: 0.7221 - accuracy: 0.6875\n",
            "Epoch 15: val_accuracy did not improve from 0.77500\n",
            "5/5 [==============================] - 0s 16ms/step - loss: 0.6611 - accuracy: 0.7125 - val_loss: 0.8771 - val_accuracy: 0.5750\n",
            "Epoch 16/150\n",
            "1/5 [=====>........................] - ETA: 0s - loss: 0.5685 - accuracy: 0.8438\n",
            "Epoch 16: val_accuracy did not improve from 0.77500\n",
            "5/5 [==============================] - 0s 12ms/step - loss: 0.6257 - accuracy: 0.7812 - val_loss: 0.8047 - val_accuracy: 0.7000\n",
            "Epoch 17/150\n",
            "1/5 [=====>........................] - ETA: 0s - loss: 0.5418 - accuracy: 0.9062\n",
            "Epoch 17: val_accuracy did not improve from 0.77500\n",
            "5/5 [==============================] - 0s 15ms/step - loss: 0.6228 - accuracy: 0.7750 - val_loss: 0.9024 - val_accuracy: 0.5000\n",
            "Epoch 18/150\n",
            "1/5 [=====>........................] - ETA: 0s - loss: 0.5967 - accuracy: 0.8125\n",
            "Epoch 18: val_accuracy did not improve from 0.77500\n",
            "5/5 [==============================] - 0s 12ms/step - loss: 0.6299 - accuracy: 0.7750 - val_loss: 0.7929 - val_accuracy: 0.7750\n",
            "Epoch 19/150\n",
            "1/5 [=====>........................] - ETA: 0s - loss: 0.6801 - accuracy: 0.7812\n",
            "Epoch 19: val_accuracy did not improve from 0.77500\n",
            "5/5 [==============================] - 0s 19ms/step - loss: 0.5932 - accuracy: 0.7812 - val_loss: 0.8981 - val_accuracy: 0.5500\n",
            "Epoch 20/150\n",
            "1/5 [=====>........................] - ETA: 0s - loss: 0.5155 - accuracy: 0.8438\n",
            "Epoch 20: val_accuracy did not improve from 0.77500\n",
            "5/5 [==============================] - 0s 13ms/step - loss: 0.5926 - accuracy: 0.8125 - val_loss: 0.7773 - val_accuracy: 0.7750\n",
            "Epoch 21/150\n",
            "1/5 [=====>........................] - ETA: 0s - loss: 0.4956 - accuracy: 0.8750\n",
            "Epoch 21: val_accuracy did not improve from 0.77500\n",
            "5/5 [==============================] - 0s 15ms/step - loss: 0.5866 - accuracy: 0.7937 - val_loss: 0.8937 - val_accuracy: 0.5000\n",
            "Epoch 22/150\n",
            "1/5 [=====>........................] - ETA: 0s - loss: 0.5893 - accuracy: 0.7812\n",
            "Epoch 22: val_accuracy did not improve from 0.77500\n",
            "5/5 [==============================] - 0s 11ms/step - loss: 0.6391 - accuracy: 0.7250 - val_loss: 0.7629 - val_accuracy: 0.7750\n",
            "Epoch 23/150\n",
            "1/5 [=====>........................] - ETA: 0s - loss: 0.5570 - accuracy: 0.8438\n",
            "Epoch 23: val_accuracy did not improve from 0.77500\n",
            "5/5 [==============================] - 0s 12ms/step - loss: 0.5828 - accuracy: 0.8000 - val_loss: 0.8033 - val_accuracy: 0.6250\n",
            "Epoch 24/150\n",
            "1/5 [=====>........................] - ETA: 0s - loss: 0.5717 - accuracy: 0.7812\n",
            "Epoch 24: val_accuracy did not improve from 0.77500\n",
            "5/5 [==============================] - 0s 11ms/step - loss: 0.5746 - accuracy: 0.7688 - val_loss: 0.7865 - val_accuracy: 0.6750\n",
            "Epoch 25/150\n",
            "1/5 [=====>........................] - ETA: 0s - loss: 0.5625 - accuracy: 0.7812\n",
            "Epoch 25: val_accuracy did not improve from 0.77500\n",
            "5/5 [==============================] - 0s 12ms/step - loss: 0.5616 - accuracy: 0.8438 - val_loss: 0.7646 - val_accuracy: 0.7000\n",
            "Epoch 26/150\n",
            "1/5 [=====>........................] - ETA: 0s - loss: 0.5262 - accuracy: 0.7812\n",
            "Epoch 26: val_accuracy did not improve from 0.77500\n",
            "5/5 [==============================] - 0s 17ms/step - loss: 0.5297 - accuracy: 0.8250 - val_loss: 0.7184 - val_accuracy: 0.7250\n",
            "Epoch 27/150\n",
            "1/5 [=====>........................] - ETA: 0s - loss: 0.5209 - accuracy: 0.8125\n",
            "Epoch 27: val_accuracy did not improve from 0.77500\n",
            "5/5 [==============================] - 0s 11ms/step - loss: 0.5297 - accuracy: 0.8250 - val_loss: 0.7587 - val_accuracy: 0.6250\n",
            "Epoch 28/150\n",
            "1/5 [=====>........................] - ETA: 0s - loss: 0.4991 - accuracy: 0.8438\n",
            "Epoch 28: val_accuracy did not improve from 0.77500\n",
            "5/5 [==============================] - 0s 11ms/step - loss: 0.5138 - accuracy: 0.8250 - val_loss: 0.7051 - val_accuracy: 0.7250\n",
            "Epoch 29/150\n",
            "1/5 [=====>........................] - ETA: 0s - loss: 0.5566 - accuracy: 0.9062\n",
            "Epoch 29: val_accuracy did not improve from 0.77500\n",
            "5/5 [==============================] - 0s 16ms/step - loss: 0.5011 - accuracy: 0.8687 - val_loss: 0.7715 - val_accuracy: 0.6000\n",
            "Epoch 30/150\n",
            "1/5 [=====>........................] - ETA: 0s - loss: 0.4852 - accuracy: 0.8125\n",
            "Epoch 30: val_accuracy improved from 0.77500 to 0.80000, saving model to 30.h5\n",
            "5/5 [==============================] - 0s 14ms/step - loss: 0.4652 - accuracy: 0.8813 - val_loss: 0.6712 - val_accuracy: 0.8000\n",
            "Epoch 31/150\n",
            "1/5 [=====>........................] - ETA: 0s - loss: 0.4386 - accuracy: 0.8750\n",
            "Epoch 31: val_accuracy did not improve from 0.80000\n",
            "5/5 [==============================] - 0s 15ms/step - loss: 0.4690 - accuracy: 0.8438 - val_loss: 0.6953 - val_accuracy: 0.6750\n",
            "Epoch 32/150\n",
            "1/5 [=====>........................] - ETA: 0s - loss: 0.5574 - accuracy: 0.8125\n",
            "Epoch 32: val_accuracy did not improve from 0.80000\n",
            "5/5 [==============================] - 0s 16ms/step - loss: 0.4685 - accuracy: 0.8562 - val_loss: 0.6593 - val_accuracy: 0.8000\n",
            "Epoch 33/150\n",
            "1/5 [=====>........................] - ETA: 0s - loss: 0.4610 - accuracy: 0.9062\n",
            "Epoch 33: val_accuracy did not improve from 0.80000\n",
            "5/5 [==============================] - 0s 12ms/step - loss: 0.4627 - accuracy: 0.8813 - val_loss: 0.6622 - val_accuracy: 0.7250\n",
            "Epoch 34/150\n",
            "1/5 [=====>........................] - ETA: 0s - loss: 0.5227 - accuracy: 0.8750\n",
            "Epoch 34: val_accuracy did not improve from 0.80000\n",
            "5/5 [==============================] - 0s 13ms/step - loss: 0.4342 - accuracy: 0.9187 - val_loss: 0.6916 - val_accuracy: 0.6500\n",
            "Epoch 35/150\n",
            "1/5 [=====>........................] - ETA: 0s - loss: 0.4264 - accuracy: 0.8750\n",
            "Epoch 35: val_accuracy did not improve from 0.80000\n",
            "5/5 [==============================] - 0s 12ms/step - loss: 0.4337 - accuracy: 0.9000 - val_loss: 0.6312 - val_accuracy: 0.8000\n",
            "Epoch 36/150\n",
            "1/5 [=====>........................] - ETA: 0s - loss: 0.5189 - accuracy: 0.9375\n",
            "Epoch 36: val_accuracy did not improve from 0.80000\n",
            "5/5 [==============================] - 0s 11ms/step - loss: 0.4297 - accuracy: 0.9250 - val_loss: 0.6452 - val_accuracy: 0.7750\n",
            "Epoch 37/150\n",
            "1/5 [=====>........................] - ETA: 0s - loss: 0.5219 - accuracy: 0.9375\n",
            "Epoch 37: val_accuracy did not improve from 0.80000\n",
            "5/5 [==============================] - 0s 11ms/step - loss: 0.4338 - accuracy: 0.9187 - val_loss: 0.6616 - val_accuracy: 0.6500\n",
            "Epoch 38/150\n",
            "1/5 [=====>........................] - ETA: 0s - loss: 0.4122 - accuracy: 0.9062\n",
            "Epoch 38: val_accuracy did not improve from 0.80000\n",
            "5/5 [==============================] - 0s 16ms/step - loss: 0.4648 - accuracy: 0.8125 - val_loss: 0.6183 - val_accuracy: 0.7500\n",
            "Epoch 39/150\n",
            "1/5 [=====>........................] - ETA: 0s - loss: 0.4227 - accuracy: 0.9062\n",
            "Epoch 39: val_accuracy did not improve from 0.80000\n",
            "5/5 [==============================] - 0s 16ms/step - loss: 0.4548 - accuracy: 0.8438 - val_loss: 0.6845 - val_accuracy: 0.6000\n",
            "Epoch 40/150\n",
            "1/5 [=====>........................] - ETA: 0s - loss: 0.3413 - accuracy: 0.9375\n",
            "Epoch 40: val_accuracy did not improve from 0.80000\n",
            "5/5 [==============================] - 0s 20ms/step - loss: 0.4621 - accuracy: 0.8250 - val_loss: 0.6075 - val_accuracy: 0.7750\n",
            "Epoch 41/150\n",
            "1/5 [=====>........................] - ETA: 0s - loss: 0.3943 - accuracy: 0.9688\n",
            "Epoch 41: val_accuracy improved from 0.80000 to 0.82500, saving model to 41.h5\n",
            "5/5 [==============================] - 0s 19ms/step - loss: 0.4084 - accuracy: 0.8938 - val_loss: 0.5954 - val_accuracy: 0.8250\n",
            "Epoch 42/150\n",
            "1/5 [=====>........................] - ETA: 0s - loss: 0.4445 - accuracy: 0.8750\n",
            "Epoch 42: val_accuracy did not improve from 0.82500\n",
            "5/5 [==============================] - 0s 20ms/step - loss: 0.3847 - accuracy: 0.8875 - val_loss: 0.6459 - val_accuracy: 0.7500\n",
            "Epoch 43/150\n",
            "1/5 [=====>........................] - ETA: 0s - loss: 0.4123 - accuracy: 0.9062\n",
            "Epoch 43: val_accuracy improved from 0.82500 to 0.85000, saving model to 43.h5\n",
            "5/5 [==============================] - 0s 23ms/step - loss: 0.3725 - accuracy: 0.9312 - val_loss: 0.5832 - val_accuracy: 0.8500\n",
            "Epoch 44/150\n",
            "1/5 [=====>........................] - ETA: 0s - loss: 0.4341 - accuracy: 0.9688\n",
            "Epoch 44: val_accuracy did not improve from 0.85000\n",
            "5/5 [==============================] - 0s 21ms/step - loss: 0.3755 - accuracy: 0.9312 - val_loss: 0.5794 - val_accuracy: 0.7750\n",
            "Epoch 45/150\n",
            "1/5 [=====>........................] - ETA: 0s - loss: 0.4045 - accuracy: 0.9375\n",
            "Epoch 45: val_accuracy did not improve from 0.85000\n",
            "5/5 [==============================] - 0s 17ms/step - loss: 0.3586 - accuracy: 0.9375 - val_loss: 0.5726 - val_accuracy: 0.8500\n",
            "Epoch 46/150\n",
            "1/5 [=====>........................] - ETA: 0s - loss: 0.4758 - accuracy: 0.8750\n",
            "Epoch 46: val_accuracy did not improve from 0.85000\n",
            "5/5 [==============================] - 0s 21ms/step - loss: 0.3466 - accuracy: 0.9500 - val_loss: 0.5739 - val_accuracy: 0.7750\n",
            "Epoch 47/150\n",
            "1/5 [=====>........................] - ETA: 0s - loss: 0.2990 - accuracy: 0.9688\n",
            "Epoch 47: val_accuracy did not improve from 0.85000\n",
            "5/5 [==============================] - 0s 20ms/step - loss: 0.3642 - accuracy: 0.9125 - val_loss: 0.5581 - val_accuracy: 0.8250\n",
            "Epoch 48/150\n",
            "1/5 [=====>........................] - ETA: 0s - loss: 0.2887 - accuracy: 0.9688\n",
            "Epoch 48: val_accuracy did not improve from 0.85000\n",
            "5/5 [==============================] - 0s 19ms/step - loss: 0.3613 - accuracy: 0.9375 - val_loss: 0.5914 - val_accuracy: 0.7750\n",
            "Epoch 49/150\n",
            "1/5 [=====>........................] - ETA: 0s - loss: 0.3881 - accuracy: 0.8125\n",
            "Epoch 49: val_accuracy did not improve from 0.85000\n",
            "5/5 [==============================] - 0s 19ms/step - loss: 0.3329 - accuracy: 0.9187 - val_loss: 0.5490 - val_accuracy: 0.7750\n",
            "Epoch 50/150\n",
            "1/5 [=====>........................] - ETA: 0s - loss: 0.3415 - accuracy: 0.8750\n",
            "Epoch 50: val_accuracy did not improve from 0.85000\n",
            "5/5 [==============================] - 0s 20ms/step - loss: 0.3378 - accuracy: 0.9312 - val_loss: 0.5600 - val_accuracy: 0.8000\n",
            "Epoch 51/150\n",
            "1/5 [=====>........................] - ETA: 0s - loss: 0.3318 - accuracy: 0.9688\n",
            "Epoch 51: val_accuracy did not improve from 0.85000\n",
            "5/5 [==============================] - 0s 18ms/step - loss: 0.3306 - accuracy: 0.9625 - val_loss: 0.5740 - val_accuracy: 0.8000\n",
            "Epoch 52/150\n",
            "1/5 [=====>........................] - ETA: 0s - loss: 0.3234 - accuracy: 1.0000\n",
            "Epoch 52: val_accuracy did not improve from 0.85000\n",
            "5/5 [==============================] - 0s 21ms/step - loss: 0.3185 - accuracy: 0.9438 - val_loss: 0.5313 - val_accuracy: 0.8250\n",
            "Epoch 53/150\n",
            "1/5 [=====>........................] - ETA: 0s - loss: 0.3607 - accuracy: 0.9062\n",
            "Epoch 53: val_accuracy did not improve from 0.85000\n",
            "5/5 [==============================] - 0s 21ms/step - loss: 0.3164 - accuracy: 0.9625 - val_loss: 0.5264 - val_accuracy: 0.8250\n",
            "Epoch 54/150\n",
            "1/5 [=====>........................] - ETA: 0s - loss: 0.2484 - accuracy: 1.0000\n",
            "Epoch 54: val_accuracy did not improve from 0.85000\n",
            "5/5 [==============================] - 0s 22ms/step - loss: 0.3120 - accuracy: 0.9438 - val_loss: 0.5347 - val_accuracy: 0.8000\n",
            "Epoch 55/150\n",
            "1/5 [=====>........................] - ETA: 0s - loss: 0.2956 - accuracy: 0.9375\n",
            "Epoch 55: val_accuracy did not improve from 0.85000\n",
            "5/5 [==============================] - 0s 21ms/step - loss: 0.3198 - accuracy: 0.9250 - val_loss: 0.5347 - val_accuracy: 0.8000\n",
            "Epoch 56/150\n",
            "1/5 [=====>........................] - ETA: 0s - loss: 0.2276 - accuracy: 1.0000\n",
            "Epoch 56: val_accuracy did not improve from 0.85000\n",
            "5/5 [==============================] - 0s 19ms/step - loss: 0.3012 - accuracy: 0.9500 - val_loss: 0.5117 - val_accuracy: 0.8250\n",
            "Epoch 57/150\n",
            "1/5 [=====>........................] - ETA: 0s - loss: 0.3256 - accuracy: 0.9062\n",
            "Epoch 57: val_accuracy did not improve from 0.85000\n",
            "5/5 [==============================] - 0s 19ms/step - loss: 0.3010 - accuracy: 0.9500 - val_loss: 0.5433 - val_accuracy: 0.8250\n",
            "Epoch 58/150\n",
            "1/5 [=====>........................] - ETA: 0s - loss: 0.2778 - accuracy: 0.9688\n",
            "Epoch 58: val_accuracy did not improve from 0.85000\n",
            "5/5 [==============================] - 0s 18ms/step - loss: 0.2970 - accuracy: 0.9688 - val_loss: 0.5083 - val_accuracy: 0.8000\n",
            "Epoch 59/150\n",
            "1/5 [=====>........................] - ETA: 0s - loss: 0.2570 - accuracy: 0.9062\n",
            "Epoch 59: val_accuracy improved from 0.85000 to 0.87500, saving model to 59.h5\n",
            "5/5 [==============================] - 0s 21ms/step - loss: 0.2972 - accuracy: 0.9375 - val_loss: 0.4900 - val_accuracy: 0.8750\n",
            "Epoch 60/150\n",
            "1/5 [=====>........................] - ETA: 0s - loss: 0.2188 - accuracy: 1.0000\n",
            "Epoch 60: val_accuracy did not improve from 0.87500\n",
            "5/5 [==============================] - 0s 15ms/step - loss: 0.3071 - accuracy: 0.9312 - val_loss: 0.5643 - val_accuracy: 0.7750\n",
            "Epoch 61/150\n",
            "1/5 [=====>........................] - ETA: 0s - loss: 0.3089 - accuracy: 0.8750\n",
            "Epoch 61: val_accuracy did not improve from 0.87500\n",
            "5/5 [==============================] - 0s 19ms/step - loss: 0.2938 - accuracy: 0.9375 - val_loss: 0.4878 - val_accuracy: 0.8500\n",
            "Epoch 62/150\n",
            "1/5 [=====>........................] - ETA: 0s - loss: 0.2597 - accuracy: 0.9688\n",
            "Epoch 62: val_accuracy did not improve from 0.87500\n",
            "5/5 [==============================] - 0s 20ms/step - loss: 0.2807 - accuracy: 0.9438 - val_loss: 0.5114 - val_accuracy: 0.8250\n",
            "Epoch 63/150\n",
            "1/5 [=====>........................] - ETA: 0s - loss: 0.2463 - accuracy: 1.0000\n",
            "Epoch 63: val_accuracy did not improve from 0.87500\n",
            "5/5 [==============================] - 0s 17ms/step - loss: 0.2698 - accuracy: 0.9375 - val_loss: 0.4670 - val_accuracy: 0.8250\n",
            "Epoch 64/150\n",
            "1/5 [=====>........................] - ETA: 0s - loss: 0.2553 - accuracy: 1.0000\n",
            "Epoch 64: val_accuracy did not improve from 0.87500\n",
            "5/5 [==============================] - 0s 17ms/step - loss: 0.2747 - accuracy: 0.9688 - val_loss: 0.4672 - val_accuracy: 0.8500\n",
            "Epoch 65/150\n",
            "1/5 [=====>........................] - ETA: 0s - loss: 0.2108 - accuracy: 0.9688\n",
            "Epoch 65: val_accuracy did not improve from 0.87500\n",
            "5/5 [==============================] - 0s 20ms/step - loss: 0.2772 - accuracy: 0.9438 - val_loss: 0.4774 - val_accuracy: 0.8250\n",
            "Epoch 66/150\n",
            "1/5 [=====>........................] - ETA: 0s - loss: 0.2532 - accuracy: 1.0000\n",
            "Epoch 66: val_accuracy did not improve from 0.87500\n",
            "5/5 [==============================] - 0s 19ms/step - loss: 0.2568 - accuracy: 0.9625 - val_loss: 0.4510 - val_accuracy: 0.8750\n",
            "Epoch 67/150\n",
            "1/5 [=====>........................] - ETA: 0s - loss: 0.2448 - accuracy: 1.0000\n",
            "Epoch 67: val_accuracy did not improve from 0.87500\n",
            "5/5 [==============================] - 0s 20ms/step - loss: 0.2582 - accuracy: 0.9563 - val_loss: 0.4770 - val_accuracy: 0.7500\n",
            "Epoch 68/150\n",
            "1/5 [=====>........................] - ETA: 0s - loss: 0.3047 - accuracy: 0.9375\n",
            "Epoch 68: val_accuracy did not improve from 0.87500\n",
            "5/5 [==============================] - 0s 20ms/step - loss: 0.2582 - accuracy: 0.9688 - val_loss: 0.4556 - val_accuracy: 0.8250\n",
            "Epoch 69/150\n",
            "1/5 [=====>........................] - ETA: 0s - loss: 0.2050 - accuracy: 1.0000\n",
            "Epoch 69: val_accuracy improved from 0.87500 to 0.90000, saving model to 69.h5\n",
            "5/5 [==============================] - 0s 25ms/step - loss: 0.2605 - accuracy: 0.9438 - val_loss: 0.4429 - val_accuracy: 0.9000\n",
            "Epoch 70/150\n",
            "1/5 [=====>........................] - ETA: 0s - loss: 0.3181 - accuracy: 0.9375\n",
            "Epoch 70: val_accuracy did not improve from 0.90000\n",
            "5/5 [==============================] - 0s 21ms/step - loss: 0.2578 - accuracy: 0.9625 - val_loss: 0.4706 - val_accuracy: 0.8250\n",
            "Epoch 71/150\n",
            "1/5 [=====>........................] - ETA: 0s - loss: 0.1976 - accuracy: 0.9375\n",
            "Epoch 71: val_accuracy did not improve from 0.90000\n",
            "5/5 [==============================] - 0s 18ms/step - loss: 0.2360 - accuracy: 0.9625 - val_loss: 0.4332 - val_accuracy: 0.8500\n",
            "Epoch 72/150\n",
            "1/5 [=====>........................] - ETA: 0s - loss: 0.2168 - accuracy: 0.9688\n",
            "Epoch 72: val_accuracy did not improve from 0.90000\n",
            "5/5 [==============================] - 0s 16ms/step - loss: 0.2563 - accuracy: 0.9500 - val_loss: 0.4437 - val_accuracy: 0.8500\n",
            "Epoch 73/150\n",
            "1/5 [=====>........................] - ETA: 0s - loss: 0.1722 - accuracy: 1.0000\n",
            "Epoch 73: val_accuracy did not improve from 0.90000\n",
            "5/5 [==============================] - 0s 19ms/step - loss: 0.2509 - accuracy: 0.9438 - val_loss: 0.4467 - val_accuracy: 0.9000\n",
            "Epoch 74/150\n",
            "1/5 [=====>........................] - ETA: 0s - loss: 0.2535 - accuracy: 0.9375\n",
            "Epoch 74: val_accuracy did not improve from 0.90000\n",
            "5/5 [==============================] - 0s 20ms/step - loss: 0.2319 - accuracy: 0.9750 - val_loss: 0.4329 - val_accuracy: 0.8250\n",
            "Epoch 75/150\n",
            "1/5 [=====>........................] - ETA: 0s - loss: 0.2033 - accuracy: 0.9688\n",
            "Epoch 75: val_accuracy did not improve from 0.90000\n",
            "5/5 [==============================] - 0s 21ms/step - loss: 0.2257 - accuracy: 0.9438 - val_loss: 0.4161 - val_accuracy: 0.8750\n",
            "Epoch 76/150\n",
            "1/5 [=====>........................] - ETA: 0s - loss: 0.3212 - accuracy: 0.9062\n",
            "Epoch 76: val_accuracy did not improve from 0.90000\n",
            "5/5 [==============================] - 0s 20ms/step - loss: 0.2195 - accuracy: 0.9563 - val_loss: 0.4288 - val_accuracy: 0.8250\n",
            "Epoch 77/150\n",
            "1/5 [=====>........................] - ETA: 0s - loss: 0.2613 - accuracy: 0.9375\n",
            "Epoch 77: val_accuracy did not improve from 0.90000\n",
            "5/5 [==============================] - 0s 20ms/step - loss: 0.2210 - accuracy: 0.9625 - val_loss: 0.4142 - val_accuracy: 0.8500\n",
            "Epoch 78/150\n",
            "1/5 [=====>........................] - ETA: 0s - loss: 0.2141 - accuracy: 0.9688\n",
            "Epoch 78: val_accuracy did not improve from 0.90000\n",
            "5/5 [==============================] - 0s 21ms/step - loss: 0.2171 - accuracy: 0.9563 - val_loss: 0.4023 - val_accuracy: 0.8500\n",
            "Epoch 79/150\n",
            "1/5 [=====>........................] - ETA: 0s - loss: 0.2744 - accuracy: 0.9688\n",
            "Epoch 79: val_accuracy did not improve from 0.90000\n",
            "5/5 [==============================] - 0s 15ms/step - loss: 0.2209 - accuracy: 0.9688 - val_loss: 0.4190 - val_accuracy: 0.8250\n",
            "Epoch 80/150\n",
            "1/5 [=====>........................] - ETA: 0s - loss: 0.1457 - accuracy: 1.0000\n",
            "Epoch 80: val_accuracy did not improve from 0.90000\n",
            "5/5 [==============================] - 0s 19ms/step - loss: 0.2135 - accuracy: 0.9500 - val_loss: 0.3963 - val_accuracy: 0.8750\n",
            "Epoch 81/150\n",
            "1/5 [=====>........................] - ETA: 0s - loss: 0.2304 - accuracy: 0.9688\n",
            "Epoch 81: val_accuracy did not improve from 0.90000\n",
            "5/5 [==============================] - 0s 16ms/step - loss: 0.2315 - accuracy: 0.9563 - val_loss: 0.4173 - val_accuracy: 0.8000\n",
            "Epoch 82/150\n",
            "1/5 [=====>........................] - ETA: 0s - loss: 0.2176 - accuracy: 0.9688\n",
            "Epoch 82: val_accuracy did not improve from 0.90000\n",
            "5/5 [==============================] - 0s 16ms/step - loss: 0.2009 - accuracy: 0.9688 - val_loss: 0.3996 - val_accuracy: 0.8750\n",
            "Epoch 83/150\n",
            "1/5 [=====>........................] - ETA: 0s - loss: 0.2061 - accuracy: 0.9375\n",
            "Epoch 83: val_accuracy did not improve from 0.90000\n",
            "5/5 [==============================] - 0s 25ms/step - loss: 0.2094 - accuracy: 0.9563 - val_loss: 0.3989 - val_accuracy: 0.8500\n",
            "Epoch 84/150\n",
            "1/5 [=====>........................] - ETA: 0s - loss: 0.2147 - accuracy: 0.9688\n",
            "Epoch 84: val_accuracy did not improve from 0.90000\n",
            "5/5 [==============================] - 0s 63ms/step - loss: 0.1972 - accuracy: 0.9750 - val_loss: 0.3889 - val_accuracy: 0.8250\n",
            "Epoch 85/150\n",
            "1/5 [=====>........................] - ETA: 0s - loss: 0.2162 - accuracy: 0.9688\n",
            "Epoch 85: val_accuracy did not improve from 0.90000\n",
            "5/5 [==============================] - 0s 37ms/step - loss: 0.1932 - accuracy: 0.9688 - val_loss: 0.3917 - val_accuracy: 0.8750\n",
            "Epoch 86/150\n",
            "1/5 [=====>........................] - ETA: 0s - loss: 0.2134 - accuracy: 0.9688\n",
            "Epoch 86: val_accuracy did not improve from 0.90000\n",
            "5/5 [==============================] - 0s 45ms/step - loss: 0.2004 - accuracy: 0.9625 - val_loss: 0.3903 - val_accuracy: 0.8750\n",
            "Epoch 87/150\n",
            "1/5 [=====>........................] - ETA: 0s - loss: 0.2332 - accuracy: 0.9688\n",
            "Epoch 87: val_accuracy did not improve from 0.90000\n",
            "5/5 [==============================] - 0s 31ms/step - loss: 0.1868 - accuracy: 0.9812 - val_loss: 0.3787 - val_accuracy: 0.9000\n",
            "Epoch 88/150\n",
            "1/5 [=====>........................] - ETA: 0s - loss: 0.2082 - accuracy: 0.9688\n",
            "Epoch 88: val_accuracy did not improve from 0.90000\n",
            "5/5 [==============================] - 0s 33ms/step - loss: 0.1870 - accuracy: 0.9688 - val_loss: 0.3837 - val_accuracy: 0.8250\n",
            "Epoch 89/150\n",
            "1/5 [=====>........................] - ETA: 0s - loss: 0.1955 - accuracy: 0.9688\n",
            "Epoch 89: val_accuracy did not improve from 0.90000\n",
            "5/5 [==============================] - 0s 24ms/step - loss: 0.1915 - accuracy: 0.9688 - val_loss: 0.3702 - val_accuracy: 0.8750\n",
            "Epoch 90/150\n",
            "1/5 [=====>........................] - ETA: 0s - loss: 0.1609 - accuracy: 0.9688\n",
            "Epoch 90: val_accuracy did not improve from 0.90000\n",
            "5/5 [==============================] - 0s 36ms/step - loss: 0.1997 - accuracy: 0.9500 - val_loss: 0.4002 - val_accuracy: 0.8500\n",
            "Epoch 91/150\n",
            "1/5 [=====>........................] - ETA: 0s - loss: 0.2158 - accuracy: 0.9375\n",
            "Epoch 91: val_accuracy did not improve from 0.90000\n",
            "5/5 [==============================] - 0s 22ms/step - loss: 0.2068 - accuracy: 0.9500 - val_loss: 0.3796 - val_accuracy: 0.8500\n",
            "Epoch 92/150\n",
            "1/5 [=====>........................] - ETA: 0s - loss: 0.1796 - accuracy: 1.0000\n",
            "Epoch 92: val_accuracy did not improve from 0.90000\n",
            "5/5 [==============================] - 0s 22ms/step - loss: 0.2002 - accuracy: 0.9563 - val_loss: 0.4008 - val_accuracy: 0.8500\n",
            "Epoch 93/150\n",
            "1/5 [=====>........................] - ETA: 0s - loss: 0.2253 - accuracy: 0.9688\n",
            "Epoch 93: val_accuracy did not improve from 0.90000\n",
            "5/5 [==============================] - 0s 33ms/step - loss: 0.1860 - accuracy: 0.9563 - val_loss: 0.3571 - val_accuracy: 0.8750\n",
            "Epoch 94/150\n",
            "1/5 [=====>........................] - ETA: 0s - loss: 0.2422 - accuracy: 0.9375\n",
            "Epoch 94: val_accuracy did not improve from 0.90000\n",
            "5/5 [==============================] - 0s 31ms/step - loss: 0.1804 - accuracy: 0.9688 - val_loss: 0.3668 - val_accuracy: 0.8250\n",
            "Epoch 95/150\n",
            "1/5 [=====>........................] - ETA: 0s - loss: 0.1004 - accuracy: 1.0000\n",
            "Epoch 95: val_accuracy did not improve from 0.90000\n",
            "5/5 [==============================] - 0s 31ms/step - loss: 0.1938 - accuracy: 0.9625 - val_loss: 0.3621 - val_accuracy: 0.8750\n",
            "Epoch 96/150\n",
            "1/5 [=====>........................] - ETA: 0s - loss: 0.1527 - accuracy: 1.0000\n",
            "Epoch 96: val_accuracy did not improve from 0.90000\n",
            "5/5 [==============================] - 0s 41ms/step - loss: 0.1868 - accuracy: 0.9625 - val_loss: 0.3573 - val_accuracy: 0.8250\n",
            "Epoch 97/150\n",
            "1/5 [=====>........................] - ETA: 0s - loss: 0.1463 - accuracy: 0.9688\n",
            "Epoch 97: val_accuracy did not improve from 0.90000\n",
            "5/5 [==============================] - 0s 44ms/step - loss: 0.1746 - accuracy: 0.9688 - val_loss: 0.3592 - val_accuracy: 0.8750\n",
            "Epoch 98/150\n",
            "1/5 [=====>........................] - ETA: 0s - loss: 0.1675 - accuracy: 0.9688\n",
            "Epoch 98: val_accuracy did not improve from 0.90000\n",
            "5/5 [==============================] - 0s 22ms/step - loss: 0.1671 - accuracy: 0.9688 - val_loss: 0.3548 - val_accuracy: 0.8500\n",
            "Epoch 99/150\n",
            "1/5 [=====>........................] - ETA: 0s - loss: 0.1740 - accuracy: 0.9375\n",
            "Epoch 99: val_accuracy did not improve from 0.90000\n",
            "5/5 [==============================] - 0s 33ms/step - loss: 0.1789 - accuracy: 0.9500 - val_loss: 0.3428 - val_accuracy: 0.9000\n",
            "Epoch 100/150\n",
            "1/5 [=====>........................] - ETA: 0s - loss: 0.2062 - accuracy: 0.9688\n",
            "Epoch 100: val_accuracy did not improve from 0.90000\n",
            "5/5 [==============================] - 0s 12ms/step - loss: 0.1721 - accuracy: 0.9688 - val_loss: 0.3653 - val_accuracy: 0.9000\n",
            "Epoch 101/150\n",
            "1/5 [=====>........................] - ETA: 0s - loss: 0.1732 - accuracy: 0.9688\n",
            "Epoch 101: val_accuracy did not improve from 0.90000\n",
            "5/5 [==============================] - 0s 14ms/step - loss: 0.1750 - accuracy: 0.9625 - val_loss: 0.3470 - val_accuracy: 0.8250\n",
            "Epoch 102/150\n",
            "1/5 [=====>........................] - ETA: 0s - loss: 0.1366 - accuracy: 1.0000\n",
            "Epoch 102: val_accuracy did not improve from 0.90000\n",
            "5/5 [==============================] - 0s 16ms/step - loss: 0.1630 - accuracy: 0.9563 - val_loss: 0.3432 - val_accuracy: 0.8750\n",
            "Epoch 103/150\n",
            "1/5 [=====>........................] - ETA: 0s - loss: 0.1231 - accuracy: 1.0000\n",
            "Epoch 103: val_accuracy did not improve from 0.90000\n",
            "5/5 [==============================] - 0s 12ms/step - loss: 0.1621 - accuracy: 0.9688 - val_loss: 0.3414 - val_accuracy: 0.8500\n",
            "Epoch 104/150\n",
            "1/5 [=====>........................] - ETA: 0s - loss: 0.1202 - accuracy: 1.0000\n",
            "Epoch 104: val_accuracy did not improve from 0.90000\n",
            "5/5 [==============================] - 0s 12ms/step - loss: 0.1723 - accuracy: 0.9688 - val_loss: 0.3345 - val_accuracy: 0.9000\n",
            "Epoch 105/150\n",
            "1/5 [=====>........................] - ETA: 0s - loss: 0.1439 - accuracy: 1.0000\n",
            "Epoch 105: val_accuracy did not improve from 0.90000\n",
            "5/5 [==============================] - 0s 16ms/step - loss: 0.1570 - accuracy: 0.9812 - val_loss: 0.3613 - val_accuracy: 0.8750\n",
            "Epoch 106/150\n",
            "1/5 [=====>........................] - ETA: 0s - loss: 0.1936 - accuracy: 0.9688\n",
            "Epoch 106: val_accuracy did not improve from 0.90000\n",
            "5/5 [==============================] - 0s 15ms/step - loss: 0.1637 - accuracy: 0.9750 - val_loss: 0.3415 - val_accuracy: 0.8750\n",
            "Epoch 107/150\n",
            "1/5 [=====>........................] - ETA: 0s - loss: 0.1854 - accuracy: 0.9375\n",
            "Epoch 107: val_accuracy did not improve from 0.90000\n",
            "5/5 [==============================] - 0s 12ms/step - loss: 0.1577 - accuracy: 0.9750 - val_loss: 0.3311 - val_accuracy: 0.8750\n",
            "Epoch 108/150\n",
            "1/5 [=====>........................] - ETA: 0s - loss: 0.1338 - accuracy: 0.9688\n",
            "Epoch 108: val_accuracy did not improve from 0.90000\n",
            "5/5 [==============================] - 0s 12ms/step - loss: 0.1523 - accuracy: 0.9750 - val_loss: 0.3434 - val_accuracy: 0.9000\n",
            "Epoch 109/150\n",
            "1/5 [=====>........................] - ETA: 0s - loss: 0.1847 - accuracy: 0.9688\n",
            "Epoch 109: val_accuracy improved from 0.90000 to 0.92500, saving model to 109.h5\n",
            "5/5 [==============================] - 0s 19ms/step - loss: 0.1505 - accuracy: 0.9750 - val_loss: 0.3295 - val_accuracy: 0.9250\n",
            "Epoch 110/150\n",
            "1/5 [=====>........................] - ETA: 0s - loss: 0.1416 - accuracy: 0.9688\n",
            "Epoch 110: val_accuracy did not improve from 0.92500\n",
            "5/5 [==============================] - 0s 12ms/step - loss: 0.1543 - accuracy: 0.9688 - val_loss: 0.3184 - val_accuracy: 0.9000\n",
            "Epoch 111/150\n",
            "1/5 [=====>........................] - ETA: 0s - loss: 0.1249 - accuracy: 1.0000\n",
            "Epoch 111: val_accuracy did not improve from 0.92500\n",
            "5/5 [==============================] - 0s 12ms/step - loss: 0.1563 - accuracy: 0.9625 - val_loss: 0.3399 - val_accuracy: 0.8750\n",
            "Epoch 112/150\n",
            "1/5 [=====>........................] - ETA: 0s - loss: 0.1409 - accuracy: 1.0000\n",
            "Epoch 112: val_accuracy did not improve from 0.92500\n",
            "5/5 [==============================] - 0s 12ms/step - loss: 0.1420 - accuracy: 0.9750 - val_loss: 0.3301 - val_accuracy: 0.8500\n",
            "Epoch 113/150\n",
            "1/5 [=====>........................] - ETA: 0s - loss: 0.1252 - accuracy: 0.9375\n",
            "Epoch 113: val_accuracy did not improve from 0.92500\n",
            "5/5 [==============================] - 0s 12ms/step - loss: 0.1454 - accuracy: 0.9688 - val_loss: 0.3196 - val_accuracy: 0.9250\n",
            "Epoch 114/150\n",
            "1/5 [=====>........................] - ETA: 0s - loss: 0.1528 - accuracy: 0.9688\n",
            "Epoch 114: val_accuracy did not improve from 0.92500\n",
            "5/5 [==============================] - 0s 13ms/step - loss: 0.1405 - accuracy: 0.9812 - val_loss: 0.3196 - val_accuracy: 0.9250\n",
            "Epoch 115/150\n",
            "1/5 [=====>........................] - ETA: 0s - loss: 0.1392 - accuracy: 1.0000\n",
            "Epoch 115: val_accuracy did not improve from 0.92500\n",
            "5/5 [==============================] - 0s 13ms/step - loss: 0.1359 - accuracy: 0.9812 - val_loss: 0.3159 - val_accuracy: 0.8750\n",
            "Epoch 116/150\n",
            "1/5 [=====>........................] - ETA: 0s - loss: 0.1098 - accuracy: 1.0000\n",
            "Epoch 116: val_accuracy did not improve from 0.92500\n",
            "5/5 [==============================] - 0s 13ms/step - loss: 0.1467 - accuracy: 0.9625 - val_loss: 0.3273 - val_accuracy: 0.8500\n",
            "Epoch 117/150\n",
            "1/5 [=====>........................] - ETA: 0s - loss: 0.2067 - accuracy: 0.8750\n",
            "Epoch 117: val_accuracy did not improve from 0.92500\n",
            "5/5 [==============================] - 0s 18ms/step - loss: 0.1486 - accuracy: 0.9500 - val_loss: 0.3110 - val_accuracy: 0.9250\n",
            "Epoch 118/150\n",
            "1/5 [=====>........................] - ETA: 0s - loss: 0.1426 - accuracy: 0.9688\n",
            "Epoch 118: val_accuracy did not improve from 0.92500\n",
            "5/5 [==============================] - 0s 13ms/step - loss: 0.1414 - accuracy: 0.9750 - val_loss: 0.3505 - val_accuracy: 0.8750\n",
            "Epoch 119/150\n",
            "1/5 [=====>........................] - ETA: 0s - loss: 0.1465 - accuracy: 0.9688\n",
            "Epoch 119: val_accuracy did not improve from 0.92500\n",
            "5/5 [==============================] - 0s 12ms/step - loss: 0.1448 - accuracy: 0.9812 - val_loss: 0.3056 - val_accuracy: 0.9000\n",
            "Epoch 120/150\n",
            "1/5 [=====>........................] - ETA: 0s - loss: 0.1280 - accuracy: 0.9688\n",
            "Epoch 120: val_accuracy did not improve from 0.92500\n",
            "5/5 [==============================] - 0s 12ms/step - loss: 0.1367 - accuracy: 0.9750 - val_loss: 0.3013 - val_accuracy: 0.8750\n",
            "Epoch 121/150\n",
            "1/5 [=====>........................] - ETA: 0s - loss: 0.1584 - accuracy: 0.9688\n",
            "Epoch 121: val_accuracy did not improve from 0.92500\n",
            "5/5 [==============================] - 0s 12ms/step - loss: 0.1271 - accuracy: 0.9750 - val_loss: 0.3140 - val_accuracy: 0.9250\n",
            "Epoch 122/150\n",
            "1/5 [=====>........................] - ETA: 0s - loss: 0.0748 - accuracy: 1.0000\n",
            "Epoch 122: val_accuracy did not improve from 0.92500\n",
            "5/5 [==============================] - 0s 12ms/step - loss: 0.1263 - accuracy: 0.9812 - val_loss: 0.3002 - val_accuracy: 0.8750\n",
            "Epoch 123/150\n",
            "1/5 [=====>........................] - ETA: 0s - loss: 0.1297 - accuracy: 0.9688\n",
            "Epoch 123: val_accuracy did not improve from 0.92500\n",
            "5/5 [==============================] - 0s 12ms/step - loss: 0.1245 - accuracy: 0.9750 - val_loss: 0.2972 - val_accuracy: 0.9000\n",
            "Epoch 124/150\n",
            "1/5 [=====>........................] - ETA: 0s - loss: 0.1156 - accuracy: 1.0000\n",
            "Epoch 124: val_accuracy did not improve from 0.92500\n",
            "5/5 [==============================] - 0s 12ms/step - loss: 0.1237 - accuracy: 0.9875 - val_loss: 0.3056 - val_accuracy: 0.8750\n",
            "Epoch 125/150\n",
            "1/5 [=====>........................] - ETA: 0s - loss: 0.1665 - accuracy: 0.9688\n",
            "Epoch 125: val_accuracy did not improve from 0.92500\n",
            "5/5 [==============================] - 0s 13ms/step - loss: 0.1245 - accuracy: 0.9875 - val_loss: 0.2988 - val_accuracy: 0.9000\n",
            "Epoch 126/150\n",
            "1/5 [=====>........................] - ETA: 0s - loss: 0.0730 - accuracy: 1.0000\n",
            "Epoch 126: val_accuracy did not improve from 0.92500\n",
            "5/5 [==============================] - 0s 12ms/step - loss: 0.1187 - accuracy: 0.9750 - val_loss: 0.2977 - val_accuracy: 0.9000\n",
            "Epoch 127/150\n",
            "1/5 [=====>........................] - ETA: 0s - loss: 0.1532 - accuracy: 0.9688\n",
            "Epoch 127: val_accuracy did not improve from 0.92500\n",
            "5/5 [==============================] - 0s 17ms/step - loss: 0.1179 - accuracy: 0.9875 - val_loss: 0.3040 - val_accuracy: 0.8750\n",
            "Epoch 128/150\n",
            "1/5 [=====>........................] - ETA: 0s - loss: 0.1286 - accuracy: 1.0000\n",
            "Epoch 128: val_accuracy did not improve from 0.92500\n",
            "5/5 [==============================] - 0s 17ms/step - loss: 0.1190 - accuracy: 0.9875 - val_loss: 0.3100 - val_accuracy: 0.9250\n",
            "Epoch 129/150\n",
            "1/5 [=====>........................] - ETA: 0s - loss: 0.1234 - accuracy: 0.9688\n",
            "Epoch 129: val_accuracy did not improve from 0.92500\n",
            "5/5 [==============================] - 0s 12ms/step - loss: 0.1209 - accuracy: 0.9812 - val_loss: 0.2968 - val_accuracy: 0.9000\n",
            "Epoch 130/150\n",
            "1/5 [=====>........................] - ETA: 0s - loss: 0.1029 - accuracy: 1.0000\n",
            "Epoch 130: val_accuracy did not improve from 0.92500\n",
            "5/5 [==============================] - 0s 12ms/step - loss: 0.1192 - accuracy: 0.9812 - val_loss: 0.3028 - val_accuracy: 0.9250\n",
            "Epoch 131/150\n",
            "1/5 [=====>........................] - ETA: 0s - loss: 0.0833 - accuracy: 1.0000\n",
            "Epoch 131: val_accuracy did not improve from 0.92500\n",
            "5/5 [==============================] - 0s 11ms/step - loss: 0.1161 - accuracy: 0.9812 - val_loss: 0.2841 - val_accuracy: 0.8750\n",
            "Epoch 132/150\n",
            "1/5 [=====>........................] - ETA: 0s - loss: 0.0978 - accuracy: 1.0000\n",
            "Epoch 132: val_accuracy did not improve from 0.92500\n",
            "5/5 [==============================] - 0s 15ms/step - loss: 0.1128 - accuracy: 0.9812 - val_loss: 0.2962 - val_accuracy: 0.9250\n",
            "Epoch 133/150\n",
            "1/5 [=====>........................] - ETA: 0s - loss: 0.0821 - accuracy: 1.0000\n",
            "Epoch 133: val_accuracy did not improve from 0.92500\n",
            "5/5 [==============================] - 0s 13ms/step - loss: 0.1100 - accuracy: 0.9750 - val_loss: 0.2892 - val_accuracy: 0.9000\n",
            "Epoch 134/150\n",
            "1/5 [=====>........................] - ETA: 0s - loss: 0.0849 - accuracy: 1.0000\n",
            "Epoch 134: val_accuracy did not improve from 0.92500\n",
            "5/5 [==============================] - 0s 17ms/step - loss: 0.1234 - accuracy: 0.9750 - val_loss: 0.2926 - val_accuracy: 0.9000\n",
            "Epoch 135/150\n",
            "1/5 [=====>........................] - ETA: 0s - loss: 0.1235 - accuracy: 0.9688\n",
            "Epoch 135: val_accuracy did not improve from 0.92500\n",
            "5/5 [==============================] - 0s 13ms/step - loss: 0.1129 - accuracy: 0.9750 - val_loss: 0.2852 - val_accuracy: 0.9000\n",
            "Epoch 136/150\n",
            "1/5 [=====>........................] - ETA: 0s - loss: 0.1133 - accuracy: 0.9688\n",
            "Epoch 136: val_accuracy did not improve from 0.92500\n",
            "5/5 [==============================] - 0s 12ms/step - loss: 0.1098 - accuracy: 0.9875 - val_loss: 0.2802 - val_accuracy: 0.9250\n",
            "Epoch 137/150\n",
            "1/5 [=====>........................] - ETA: 0s - loss: 0.1096 - accuracy: 0.9688\n",
            "Epoch 137: val_accuracy did not improve from 0.92500\n",
            "5/5 [==============================] - 0s 14ms/step - loss: 0.1113 - accuracy: 0.9812 - val_loss: 0.2801 - val_accuracy: 0.9250\n",
            "Epoch 138/150\n",
            "1/5 [=====>........................] - ETA: 0s - loss: 0.0744 - accuracy: 1.0000\n",
            "Epoch 138: val_accuracy did not improve from 0.92500\n",
            "5/5 [==============================] - 0s 18ms/step - loss: 0.1054 - accuracy: 0.9937 - val_loss: 0.2816 - val_accuracy: 0.9000\n",
            "Epoch 139/150\n",
            "1/5 [=====>........................] - ETA: 0s - loss: 0.0769 - accuracy: 1.0000\n",
            "Epoch 139: val_accuracy did not improve from 0.92500\n",
            "5/5 [==============================] - 0s 14ms/step - loss: 0.1077 - accuracy: 0.9750 - val_loss: 0.2781 - val_accuracy: 0.9000\n",
            "Epoch 140/150\n",
            "1/5 [=====>........................] - ETA: 0s - loss: 0.1502 - accuracy: 1.0000\n",
            "Epoch 140: val_accuracy did not improve from 0.92500\n",
            "5/5 [==============================] - 0s 14ms/step - loss: 0.1046 - accuracy: 0.9937 - val_loss: 0.2883 - val_accuracy: 0.9000\n",
            "Epoch 141/150\n",
            "1/5 [=====>........................] - ETA: 0s - loss: 0.1454 - accuracy: 0.9688\n",
            "Epoch 141: val_accuracy did not improve from 0.92500\n",
            "5/5 [==============================] - 0s 13ms/step - loss: 0.1074 - accuracy: 0.9875 - val_loss: 0.2804 - val_accuracy: 0.9000\n",
            "Epoch 142/150\n",
            "1/5 [=====>........................] - ETA: 0s - loss: 0.0926 - accuracy: 1.0000\n",
            "Epoch 142: val_accuracy did not improve from 0.92500\n",
            "5/5 [==============================] - 0s 15ms/step - loss: 0.1037 - accuracy: 0.9937 - val_loss: 0.2822 - val_accuracy: 0.9250\n",
            "Epoch 143/150\n",
            "1/5 [=====>........................] - ETA: 0s - loss: 0.1060 - accuracy: 1.0000\n",
            "Epoch 143: val_accuracy did not improve from 0.92500\n",
            "5/5 [==============================] - 0s 16ms/step - loss: 0.1012 - accuracy: 0.9875 - val_loss: 0.2730 - val_accuracy: 0.9000\n",
            "Epoch 144/150\n",
            "1/5 [=====>........................] - ETA: 0s - loss: 0.1024 - accuracy: 1.0000\n",
            "Epoch 144: val_accuracy did not improve from 0.92500\n",
            "5/5 [==============================] - 0s 13ms/step - loss: 0.0986 - accuracy: 0.9875 - val_loss: 0.2845 - val_accuracy: 0.9250\n",
            "Epoch 145/150\n",
            "1/5 [=====>........................] - ETA: 0s - loss: 0.0633 - accuracy: 1.0000\n",
            "Epoch 145: val_accuracy did not improve from 0.92500\n",
            "5/5 [==============================] - 0s 12ms/step - loss: 0.0976 - accuracy: 0.9937 - val_loss: 0.2736 - val_accuracy: 0.8750\n",
            "Epoch 146/150\n",
            "1/5 [=====>........................] - ETA: 0s - loss: 0.1323 - accuracy: 1.0000\n",
            "Epoch 146: val_accuracy did not improve from 0.92500\n",
            "5/5 [==============================] - 0s 13ms/step - loss: 0.1012 - accuracy: 0.9875 - val_loss: 0.2713 - val_accuracy: 0.9250\n",
            "Epoch 147/150\n",
            "1/5 [=====>........................] - ETA: 0s - loss: 0.0807 - accuracy: 1.0000\n",
            "Epoch 147: val_accuracy did not improve from 0.92500\n",
            "5/5 [==============================] - 0s 14ms/step - loss: 0.1027 - accuracy: 0.9750 - val_loss: 0.2701 - val_accuracy: 0.9250\n",
            "Epoch 148/150\n",
            "1/5 [=====>........................] - ETA: 0s - loss: 0.1028 - accuracy: 1.0000\n",
            "Epoch 148: val_accuracy did not improve from 0.92500\n",
            "5/5 [==============================] - 0s 12ms/step - loss: 0.1118 - accuracy: 0.9875 - val_loss: 0.2699 - val_accuracy: 0.9250\n",
            "Epoch 149/150\n",
            "1/5 [=====>........................] - ETA: 0s - loss: 0.0675 - accuracy: 1.0000\n",
            "Epoch 149: val_accuracy improved from 0.92500 to 0.95000, saving model to 149.h5\n",
            "5/5 [==============================] - 0s 14ms/step - loss: 0.1191 - accuracy: 0.9625 - val_loss: 0.2595 - val_accuracy: 0.9500\n",
            "Epoch 150/150\n",
            "1/5 [=====>........................] - ETA: 0s - loss: 0.1067 - accuracy: 1.0000\n",
            "Epoch 150: val_accuracy did not improve from 0.95000\n",
            "5/5 [==============================] - 0s 17ms/step - loss: 0.1045 - accuracy: 0.9812 - val_loss: 0.2575 - val_accuracy: 0.9250\n"
          ]
        }
      ]
    },
    {
      "cell_type": "code",
      "source": [
        "model.load_weights('149.h5')"
      ],
      "metadata": {
        "id": "-9uPkANxI-gu"
      },
      "execution_count": null,
      "outputs": []
    },
    {
      "cell_type": "code",
      "source": [
        "fig = plt.figure()\n",
        "plt.plot(hist1.history['loss'], color='teal', label='TL')\n",
        "plt.plot(hist1.history['val_loss'], color='orange', label='VL')\n",
        "plt.plot(hist1.history['accuracy'], color='green', label='TA')\n",
        "plt.plot(hist1.history['val_accuracy'], color='red', label='VA')\n",
        "plt.xlabel(\"Epoch\")\n",
        "plt.ylabel(\"Loss/Accuracy\")\n",
        "fig.suptitle('ANN', fontsize=20)\n",
        "plt.legend(loc=\"lower left\")\n",
        "plt.show()"
      ],
      "metadata": {
        "colab": {
          "base_uri": "https://localhost:8080/",
          "height": 267
        },
        "id": "TjOvVvuWI11m",
        "outputId": "e04fdff3-551d-41e7-9039-f5f2026488ac"
      },
      "execution_count": null,
      "outputs": [
        {
          "output_type": "display_data",
          "data": {
            "text/plain": [
              "<Figure size 540x252 with 1 Axes>"
            ],
            "image/png": "[encoded data removed]"
          },
          "metadata": {
            "needs_background": "light"
          }
        }
      ]
    }
  ]
}